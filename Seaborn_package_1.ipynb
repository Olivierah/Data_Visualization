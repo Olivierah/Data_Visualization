{
  "nbformat": 4,
  "nbformat_minor": 0,
  "metadata": {
    "colab": {
      "name": "Seaborn_package_1.ipynb",
      "provenance": [],
      "authorship_tag": "ABX9TyPX4WbWSpyj+EAsZZWCrQcm"
    },
    "kernelspec": {
      "name": "python3",
      "display_name": "Python 3"
    },
    "language_info": {
      "name": "python"
    }
  },
  "cells": [
    {
      "cell_type": "markdown",
      "metadata": {
        "id": "NPdNn4FusVDC"
      },
      "source": [
        "# Importando a base de dados.\n",
        "\n",
        "#### Com base em uma amostra de dados de gorjetas de outros países, onde não existe uma taxa fixa, vamos avaliar quatro tópicos: \n",
        "\n",
        "##### 1 - Se o valor da conta influência no valor da gorjeta e se esse aumento é proporcional\n",
        "##### 2 - Verificar a diferença de valores das gorjetas de quem pediu e quem não pediu sobremesa\n",
        "##### 3 - Verificar se o dia da semana interfere no valor da gorjeta\n",
        "##### 4 - Verificar em qual hora do dia a gorjeta é maior"
      ]
    },
    {
      "cell_type": "code",
      "metadata": {
        "id": "JMzBdFHAsLVq"
      },
      "source": [
        "import pandas as pd\n",
        "\n",
        "dados_raw = pd.read_csv('tips.csv')"
      ],
      "execution_count": 1,
      "outputs": []
    },
    {
      "cell_type": "code",
      "metadata": {
        "colab": {
          "base_uri": "https://localhost:8080/",
          "height": 204
        },
        "id": "nirEUtNYs9Kh",
        "outputId": "19383a3b-6640-4032-a15e-41b6adb4edf7"
      },
      "source": [
        "dados_raw.head()"
      ],
      "execution_count": 2,
      "outputs": [
        {
          "output_type": "execute_result",
          "data": {
            "text/html": [
              "<div>\n",
              "<style scoped>\n",
              "    .dataframe tbody tr th:only-of-type {\n",
              "        vertical-align: middle;\n",
              "    }\n",
              "\n",
              "    .dataframe tbody tr th {\n",
              "        vertical-align: top;\n",
              "    }\n",
              "\n",
              "    .dataframe thead th {\n",
              "        text-align: right;\n",
              "    }\n",
              "</style>\n",
              "<table border=\"1\" class=\"dataframe\">\n",
              "  <thead>\n",
              "    <tr style=\"text-align: right;\">\n",
              "      <th></th>\n",
              "      <th>total_bill</th>\n",
              "      <th>tip</th>\n",
              "      <th>dessert</th>\n",
              "      <th>day</th>\n",
              "      <th>time</th>\n",
              "      <th>size</th>\n",
              "    </tr>\n",
              "  </thead>\n",
              "  <tbody>\n",
              "    <tr>\n",
              "      <th>0</th>\n",
              "      <td>16.99</td>\n",
              "      <td>1.01</td>\n",
              "      <td>No</td>\n",
              "      <td>Sun</td>\n",
              "      <td>Dinner</td>\n",
              "      <td>2</td>\n",
              "    </tr>\n",
              "    <tr>\n",
              "      <th>1</th>\n",
              "      <td>10.34</td>\n",
              "      <td>1.66</td>\n",
              "      <td>No</td>\n",
              "      <td>Sun</td>\n",
              "      <td>Dinner</td>\n",
              "      <td>3</td>\n",
              "    </tr>\n",
              "    <tr>\n",
              "      <th>2</th>\n",
              "      <td>21.01</td>\n",
              "      <td>3.50</td>\n",
              "      <td>No</td>\n",
              "      <td>Sun</td>\n",
              "      <td>Dinner</td>\n",
              "      <td>3</td>\n",
              "    </tr>\n",
              "    <tr>\n",
              "      <th>3</th>\n",
              "      <td>23.68</td>\n",
              "      <td>3.31</td>\n",
              "      <td>No</td>\n",
              "      <td>Sun</td>\n",
              "      <td>Dinner</td>\n",
              "      <td>2</td>\n",
              "    </tr>\n",
              "    <tr>\n",
              "      <th>4</th>\n",
              "      <td>24.59</td>\n",
              "      <td>3.61</td>\n",
              "      <td>No</td>\n",
              "      <td>Sun</td>\n",
              "      <td>Dinner</td>\n",
              "      <td>4</td>\n",
              "    </tr>\n",
              "  </tbody>\n",
              "</table>\n",
              "</div>"
            ],
            "text/plain": [
              "   total_bill   tip dessert  day    time  size\n",
              "0       16.99  1.01      No  Sun  Dinner     2\n",
              "1       10.34  1.66      No  Sun  Dinner     3\n",
              "2       21.01  3.50      No  Sun  Dinner     3\n",
              "3       23.68  3.31      No  Sun  Dinner     2\n",
              "4       24.59  3.61      No  Sun  Dinner     4"
            ]
          },
          "metadata": {
            "tags": []
          },
          "execution_count": 2
        }
      ]
    },
    {
      "cell_type": "markdown",
      "metadata": {
        "id": "TOrezFp1ujL5"
      },
      "source": [
        "# Traduzindo os dados"
      ]
    },
    {
      "cell_type": "code",
      "metadata": {
        "id": "5q0_IAhUtEMC"
      },
      "source": [
        "# Utilizando o 'rename' vamos troca os nomes das colunas\n",
        "\n",
        "dados = dados_raw.rename(columns={'total_bill': 'Total_da_conta', \n",
        "                      'tip':'Gorjeta', \n",
        "                      'dessert':'Sobremesa', \n",
        "                      'day':'Dia_da_Semana', \n",
        "                      'time':'Horario_do_Dia', \n",
        "                      'size':'Quantidade_de_pessoas'})"
      ],
      "execution_count": 3,
      "outputs": []
    },
    {
      "cell_type": "code",
      "metadata": {
        "colab": {
          "base_uri": "https://localhost:8080/",
          "height": 204
        },
        "id": "UlT5Pal4yRKU",
        "outputId": "fb517b32-27ed-4f09-a240-1ad95f77b21a"
      },
      "source": [
        "dados.head()"
      ],
      "execution_count": 4,
      "outputs": [
        {
          "output_type": "execute_result",
          "data": {
            "text/html": [
              "<div>\n",
              "<style scoped>\n",
              "    .dataframe tbody tr th:only-of-type {\n",
              "        vertical-align: middle;\n",
              "    }\n",
              "\n",
              "    .dataframe tbody tr th {\n",
              "        vertical-align: top;\n",
              "    }\n",
              "\n",
              "    .dataframe thead th {\n",
              "        text-align: right;\n",
              "    }\n",
              "</style>\n",
              "<table border=\"1\" class=\"dataframe\">\n",
              "  <thead>\n",
              "    <tr style=\"text-align: right;\">\n",
              "      <th></th>\n",
              "      <th>Total_da_conta</th>\n",
              "      <th>Gorjeta</th>\n",
              "      <th>Sobremesa</th>\n",
              "      <th>Dia_da_Semana</th>\n",
              "      <th>Horario_do_Dia</th>\n",
              "      <th>Quantidade_de_pessoas</th>\n",
              "    </tr>\n",
              "  </thead>\n",
              "  <tbody>\n",
              "    <tr>\n",
              "      <th>0</th>\n",
              "      <td>16.99</td>\n",
              "      <td>1.01</td>\n",
              "      <td>No</td>\n",
              "      <td>Sun</td>\n",
              "      <td>Dinner</td>\n",
              "      <td>2</td>\n",
              "    </tr>\n",
              "    <tr>\n",
              "      <th>1</th>\n",
              "      <td>10.34</td>\n",
              "      <td>1.66</td>\n",
              "      <td>No</td>\n",
              "      <td>Sun</td>\n",
              "      <td>Dinner</td>\n",
              "      <td>3</td>\n",
              "    </tr>\n",
              "    <tr>\n",
              "      <th>2</th>\n",
              "      <td>21.01</td>\n",
              "      <td>3.50</td>\n",
              "      <td>No</td>\n",
              "      <td>Sun</td>\n",
              "      <td>Dinner</td>\n",
              "      <td>3</td>\n",
              "    </tr>\n",
              "    <tr>\n",
              "      <th>3</th>\n",
              "      <td>23.68</td>\n",
              "      <td>3.31</td>\n",
              "      <td>No</td>\n",
              "      <td>Sun</td>\n",
              "      <td>Dinner</td>\n",
              "      <td>2</td>\n",
              "    </tr>\n",
              "    <tr>\n",
              "      <th>4</th>\n",
              "      <td>24.59</td>\n",
              "      <td>3.61</td>\n",
              "      <td>No</td>\n",
              "      <td>Sun</td>\n",
              "      <td>Dinner</td>\n",
              "      <td>4</td>\n",
              "    </tr>\n",
              "  </tbody>\n",
              "</table>\n",
              "</div>"
            ],
            "text/plain": [
              "   Total_da_conta  Gorjeta  ... Horario_do_Dia Quantidade_de_pessoas\n",
              "0           16.99     1.01  ...         Dinner                     2\n",
              "1           10.34     1.66  ...         Dinner                     3\n",
              "2           21.01     3.50  ...         Dinner                     3\n",
              "3           23.68     3.31  ...         Dinner                     2\n",
              "4           24.59     3.61  ...         Dinner                     4\n",
              "\n",
              "[5 rows x 6 columns]"
            ]
          },
          "metadata": {
            "tags": []
          },
          "execution_count": 4
        }
      ]
    },
    {
      "cell_type": "code",
      "metadata": {
        "colab": {
          "base_uri": "https://localhost:8080/"
        },
        "id": "J15U2aMmzuaP",
        "outputId": "8418e16a-666f-4d62-c76c-01e57e8c4e20"
      },
      "source": [
        "dados.Sobremesa.unique()"
      ],
      "execution_count": 5,
      "outputs": [
        {
          "output_type": "execute_result",
          "data": {
            "text/plain": [
              "array(['No', 'Yes'], dtype=object)"
            ]
          },
          "metadata": {
            "tags": []
          },
          "execution_count": 5
        }
      ]
    },
    {
      "cell_type": "code",
      "metadata": {
        "id": "mkcGB50l1yO3"
      },
      "source": [
        "# Utilizando o 'map' podemos utilizar um dicionário para renomear os valores de todas a linhas\n",
        "\n",
        "dados.Sobremesa = dados.Sobremesa.map({'No':'Não', 'Yes':'Sim'})"
      ],
      "execution_count": 6,
      "outputs": []
    },
    {
      "cell_type": "code",
      "metadata": {
        "colab": {
          "base_uri": "https://localhost:8080/"
        },
        "id": "Rzz9rwas22pK",
        "outputId": "156caf9c-b34f-45b7-ba8f-7527382b2a79"
      },
      "source": [
        "dados.Dia_da_Semana.unique()"
      ],
      "execution_count": 7,
      "outputs": [
        {
          "output_type": "execute_result",
          "data": {
            "text/plain": [
              "array(['Sun', 'Sat', 'Thur', 'Fri'], dtype=object)"
            ]
          },
          "metadata": {
            "tags": []
          },
          "execution_count": 7
        }
      ]
    },
    {
      "cell_type": "code",
      "metadata": {
        "id": "DslsUJXn4hz9"
      },
      "source": [
        "dados.Dia_da_Semana = dados.Dia_da_Semana.map({'Sun':'Domingo', 'Sat':'Sábado','Thur':'Quinta-Feira','Fri':'Sexta-Feira'})"
      ],
      "execution_count": 8,
      "outputs": []
    },
    {
      "cell_type": "code",
      "metadata": {
        "colab": {
          "base_uri": "https://localhost:8080/"
        },
        "id": "nK7MgbX85LIj",
        "outputId": "fe26a800-8b6d-4612-bcd0-bc5711fc46d3"
      },
      "source": [
        "dados.Horario_do_Dia.unique()"
      ],
      "execution_count": 9,
      "outputs": [
        {
          "output_type": "execute_result",
          "data": {
            "text/plain": [
              "array(['Dinner', 'Lunch'], dtype=object)"
            ]
          },
          "metadata": {
            "tags": []
          },
          "execution_count": 9
        }
      ]
    },
    {
      "cell_type": "code",
      "metadata": {
        "id": "OgWR5Nka5RLj"
      },
      "source": [
        "dados.Horario_do_Dia = dados.Horario_do_Dia.map({'Dinner':'Jantar', 'Lunch':'Almoço'})"
      ],
      "execution_count": 10,
      "outputs": []
    },
    {
      "cell_type": "code",
      "metadata": {
        "colab": {
          "base_uri": "https://localhost:8080/",
          "height": 419
        },
        "id": "1FxbH_YJ5zYy",
        "outputId": "e0a1f71f-be55-4f25-e75c-c18c7f86d1b3"
      },
      "source": [
        "dados"
      ],
      "execution_count": 11,
      "outputs": [
        {
          "output_type": "execute_result",
          "data": {
            "text/html": [
              "<div>\n",
              "<style scoped>\n",
              "    .dataframe tbody tr th:only-of-type {\n",
              "        vertical-align: middle;\n",
              "    }\n",
              "\n",
              "    .dataframe tbody tr th {\n",
              "        vertical-align: top;\n",
              "    }\n",
              "\n",
              "    .dataframe thead th {\n",
              "        text-align: right;\n",
              "    }\n",
              "</style>\n",
              "<table border=\"1\" class=\"dataframe\">\n",
              "  <thead>\n",
              "    <tr style=\"text-align: right;\">\n",
              "      <th></th>\n",
              "      <th>Total_da_conta</th>\n",
              "      <th>Gorjeta</th>\n",
              "      <th>Sobremesa</th>\n",
              "      <th>Dia_da_Semana</th>\n",
              "      <th>Horario_do_Dia</th>\n",
              "      <th>Quantidade_de_pessoas</th>\n",
              "    </tr>\n",
              "  </thead>\n",
              "  <tbody>\n",
              "    <tr>\n",
              "      <th>0</th>\n",
              "      <td>16.99</td>\n",
              "      <td>1.01</td>\n",
              "      <td>Não</td>\n",
              "      <td>Domingo</td>\n",
              "      <td>Jantar</td>\n",
              "      <td>2</td>\n",
              "    </tr>\n",
              "    <tr>\n",
              "      <th>1</th>\n",
              "      <td>10.34</td>\n",
              "      <td>1.66</td>\n",
              "      <td>Não</td>\n",
              "      <td>Domingo</td>\n",
              "      <td>Jantar</td>\n",
              "      <td>3</td>\n",
              "    </tr>\n",
              "    <tr>\n",
              "      <th>2</th>\n",
              "      <td>21.01</td>\n",
              "      <td>3.50</td>\n",
              "      <td>Não</td>\n",
              "      <td>Domingo</td>\n",
              "      <td>Jantar</td>\n",
              "      <td>3</td>\n",
              "    </tr>\n",
              "    <tr>\n",
              "      <th>3</th>\n",
              "      <td>23.68</td>\n",
              "      <td>3.31</td>\n",
              "      <td>Não</td>\n",
              "      <td>Domingo</td>\n",
              "      <td>Jantar</td>\n",
              "      <td>2</td>\n",
              "    </tr>\n",
              "    <tr>\n",
              "      <th>4</th>\n",
              "      <td>24.59</td>\n",
              "      <td>3.61</td>\n",
              "      <td>Não</td>\n",
              "      <td>Domingo</td>\n",
              "      <td>Jantar</td>\n",
              "      <td>4</td>\n",
              "    </tr>\n",
              "    <tr>\n",
              "      <th>...</th>\n",
              "      <td>...</td>\n",
              "      <td>...</td>\n",
              "      <td>...</td>\n",
              "      <td>...</td>\n",
              "      <td>...</td>\n",
              "      <td>...</td>\n",
              "    </tr>\n",
              "    <tr>\n",
              "      <th>239</th>\n",
              "      <td>29.03</td>\n",
              "      <td>5.92</td>\n",
              "      <td>Não</td>\n",
              "      <td>Sábado</td>\n",
              "      <td>Jantar</td>\n",
              "      <td>3</td>\n",
              "    </tr>\n",
              "    <tr>\n",
              "      <th>240</th>\n",
              "      <td>27.18</td>\n",
              "      <td>2.00</td>\n",
              "      <td>Sim</td>\n",
              "      <td>Sábado</td>\n",
              "      <td>Jantar</td>\n",
              "      <td>2</td>\n",
              "    </tr>\n",
              "    <tr>\n",
              "      <th>241</th>\n",
              "      <td>22.67</td>\n",
              "      <td>2.00</td>\n",
              "      <td>Sim</td>\n",
              "      <td>Sábado</td>\n",
              "      <td>Jantar</td>\n",
              "      <td>2</td>\n",
              "    </tr>\n",
              "    <tr>\n",
              "      <th>242</th>\n",
              "      <td>17.82</td>\n",
              "      <td>1.75</td>\n",
              "      <td>Não</td>\n",
              "      <td>Sábado</td>\n",
              "      <td>Jantar</td>\n",
              "      <td>2</td>\n",
              "    </tr>\n",
              "    <tr>\n",
              "      <th>243</th>\n",
              "      <td>18.78</td>\n",
              "      <td>3.00</td>\n",
              "      <td>Não</td>\n",
              "      <td>Quinta-Feira</td>\n",
              "      <td>Jantar</td>\n",
              "      <td>2</td>\n",
              "    </tr>\n",
              "  </tbody>\n",
              "</table>\n",
              "<p>244 rows × 6 columns</p>\n",
              "</div>"
            ],
            "text/plain": [
              "     Total_da_conta  Gorjeta  ... Horario_do_Dia Quantidade_de_pessoas\n",
              "0             16.99     1.01  ...         Jantar                     2\n",
              "1             10.34     1.66  ...         Jantar                     3\n",
              "2             21.01     3.50  ...         Jantar                     3\n",
              "3             23.68     3.31  ...         Jantar                     2\n",
              "4             24.59     3.61  ...         Jantar                     4\n",
              "..              ...      ...  ...            ...                   ...\n",
              "239           29.03     5.92  ...         Jantar                     3\n",
              "240           27.18     2.00  ...         Jantar                     2\n",
              "241           22.67     2.00  ...         Jantar                     2\n",
              "242           17.82     1.75  ...         Jantar                     2\n",
              "243           18.78     3.00  ...         Jantar                     2\n",
              "\n",
              "[244 rows x 6 columns]"
            ]
          },
          "metadata": {
            "tags": []
          },
          "execution_count": 11
        }
      ]
    },
    {
      "cell_type": "markdown",
      "metadata": {
        "id": "00MchgTK7ARg"
      },
      "source": [
        "# **Análise exploratória**\n",
        "### Aqui vamos explorar o tópico 1:\n",
        "##### *1 - Verificar se o valor da conta influência no valor da gorjeta e se esse aumento é proporcional*\n",
        "# **Tipo de gráfico utilizado:**\n",
        "#### scatterplot\n",
        "# **Biblioteca utilizada:**\n",
        "#### Seaborn\n"
      ]
    },
    {
      "cell_type": "code",
      "metadata": {
        "id": "X6Z0CMxl5zqW"
      },
      "source": [
        "import seaborn as sns"
      ],
      "execution_count": 12,
      "outputs": []
    },
    {
      "cell_type": "code",
      "metadata": {
        "colab": {
          "base_uri": "https://localhost:8080/"
        },
        "id": "ykOQPvjx9w_v",
        "outputId": "64dbd02c-321f-40bd-a4af-4017f06b59c9"
      },
      "source": [
        "dados.columns"
      ],
      "execution_count": 13,
      "outputs": [
        {
          "output_type": "execute_result",
          "data": {
            "text/plain": [
              "Index(['Total_da_conta', 'Gorjeta', 'Sobremesa', 'Dia_da_Semana',\n",
              "       'Horario_do_Dia', 'Quantidade_de_pessoas'],\n",
              "      dtype='object')"
            ]
          },
          "metadata": {
            "tags": []
          },
          "execution_count": 13
        }
      ]
    },
    {
      "cell_type": "code",
      "metadata": {
        "colab": {
          "base_uri": "https://localhost:8080/",
          "height": 297
        },
        "id": "QLc2ngh08HMf",
        "outputId": "5bc27440-a8e4-47ab-b400-937efd59a22f"
      },
      "source": [
        "# Vamos criar um gráfico do tipo scatterplot para tentar ancontrar alguma relação entre o valor da conta e a gorjeta.\n",
        "# Para plotar o gráfico nós devemos passar três argumentos:\n",
        "\n",
        "# x = Os valores que serão representados no eixo x\n",
        "# y = Os valores que serão representados no eixo y\n",
        "# data = A base de dados que será utilizada\n",
        "\n",
        "sns.scatterplot(x='Total_da_conta', y='Gorjeta', data=dados)"
      ],
      "execution_count": 14,
      "outputs": [
        {
          "output_type": "execute_result",
          "data": {
            "text/plain": [
              "<matplotlib.axes._subplots.AxesSubplot at 0x7f510e932890>"
            ]
          },
          "metadata": {
            "tags": []
          },
          "execution_count": 14
        },
        {
          "output_type": "display_data",
          "data": {
            "image/png": "[encoded data removed]",
            "text/plain": [
              "<Figure size 432x288 with 1 Axes>"
            ]
          },
          "metadata": {
            "tags": [],
            "needs_background": "light"
          }
        }
      ]
    },
    {
      "cell_type": "markdown",
      "metadata": {
        "id": "GCN_Iwk_HJ3u"
      },
      "source": [
        "**Inicialmente, o valor da gorjeta parece aumentar conforme o valor total da conta também aumenta.**"
      ]
    },
    {
      "cell_type": "code",
      "metadata": {
        "id": "_dvY_Wxe_HHj"
      },
      "source": [
        "# A mensagem <matplotlib.axes._subplots.AxesSubplot at 0x7f510e932890> que aparece acima da imagem é o endereço da memória onde a imagem está armazenada.\n",
        "# Você pode utilizar uma variável para armazenar esse endereço, assim ele não aparecerá acima da imagem.\n",
        "\n",
        "# EX:\n",
        "# TDC_G_Scatter = sns.scatterplot(x='Total_da_conta', y='Gorjeta', data=dados)\n",
        "\n",
        "# TDC_G_Scatter => Armazena o endereço de memória onde a imágem está localizada."
      ],
      "execution_count": 15,
      "outputs": []
    },
    {
      "cell_type": "markdown",
      "metadata": {
        "id": "5hHJiqpGHzo4"
      },
      "source": [
        "**Vamos visualizar se nossa base possui valore nulos**"
      ]
    },
    {
      "cell_type": "code",
      "metadata": {
        "colab": {
          "base_uri": "https://localhost:8080/",
          "height": 204
        },
        "id": "Pf34jh86IoYf",
        "outputId": "befa5bc3-f89b-4d40-a105-1e4c0b73ec9c"
      },
      "source": [
        "# Vmaos visulizar uma amostra dos dados\n",
        "\n",
        "dados.head()"
      ],
      "execution_count": 16,
      "outputs": [
        {
          "output_type": "execute_result",
          "data": {
            "text/html": [
              "<div>\n",
              "<style scoped>\n",
              "    .dataframe tbody tr th:only-of-type {\n",
              "        vertical-align: middle;\n",
              "    }\n",
              "\n",
              "    .dataframe tbody tr th {\n",
              "        vertical-align: top;\n",
              "    }\n",
              "\n",
              "    .dataframe thead th {\n",
              "        text-align: right;\n",
              "    }\n",
              "</style>\n",
              "<table border=\"1\" class=\"dataframe\">\n",
              "  <thead>\n",
              "    <tr style=\"text-align: right;\">\n",
              "      <th></th>\n",
              "      <th>Total_da_conta</th>\n",
              "      <th>Gorjeta</th>\n",
              "      <th>Sobremesa</th>\n",
              "      <th>Dia_da_Semana</th>\n",
              "      <th>Horario_do_Dia</th>\n",
              "      <th>Quantidade_de_pessoas</th>\n",
              "    </tr>\n",
              "  </thead>\n",
              "  <tbody>\n",
              "    <tr>\n",
              "      <th>0</th>\n",
              "      <td>16.99</td>\n",
              "      <td>1.01</td>\n",
              "      <td>Não</td>\n",
              "      <td>Domingo</td>\n",
              "      <td>Jantar</td>\n",
              "      <td>2</td>\n",
              "    </tr>\n",
              "    <tr>\n",
              "      <th>1</th>\n",
              "      <td>10.34</td>\n",
              "      <td>1.66</td>\n",
              "      <td>Não</td>\n",
              "      <td>Domingo</td>\n",
              "      <td>Jantar</td>\n",
              "      <td>3</td>\n",
              "    </tr>\n",
              "    <tr>\n",
              "      <th>2</th>\n",
              "      <td>21.01</td>\n",
              "      <td>3.50</td>\n",
              "      <td>Não</td>\n",
              "      <td>Domingo</td>\n",
              "      <td>Jantar</td>\n",
              "      <td>3</td>\n",
              "    </tr>\n",
              "    <tr>\n",
              "      <th>3</th>\n",
              "      <td>23.68</td>\n",
              "      <td>3.31</td>\n",
              "      <td>Não</td>\n",
              "      <td>Domingo</td>\n",
              "      <td>Jantar</td>\n",
              "      <td>2</td>\n",
              "    </tr>\n",
              "    <tr>\n",
              "      <th>4</th>\n",
              "      <td>24.59</td>\n",
              "      <td>3.61</td>\n",
              "      <td>Não</td>\n",
              "      <td>Domingo</td>\n",
              "      <td>Jantar</td>\n",
              "      <td>4</td>\n",
              "    </tr>\n",
              "  </tbody>\n",
              "</table>\n",
              "</div>"
            ],
            "text/plain": [
              "   Total_da_conta  Gorjeta  ... Horario_do_Dia Quantidade_de_pessoas\n",
              "0           16.99     1.01  ...         Jantar                     2\n",
              "1           10.34     1.66  ...         Jantar                     3\n",
              "2           21.01     3.50  ...         Jantar                     3\n",
              "3           23.68     3.31  ...         Jantar                     2\n",
              "4           24.59     3.61  ...         Jantar                     4\n",
              "\n",
              "[5 rows x 6 columns]"
            ]
          },
          "metadata": {
            "tags": []
          },
          "execution_count": 16
        }
      ]
    },
    {
      "cell_type": "code",
      "metadata": {
        "colab": {
          "base_uri": "https://localhost:8080/"
        },
        "id": "5284BBm2_u5M",
        "outputId": "09656ad2-1e14-498b-d085-24c1dadd2529"
      },
      "source": [
        "# Utilizando o 'info' podemos ver que temos 244 linhas e, aparentemente, nenhuma dela é NAN\n",
        "\n",
        "dados.info()"
      ],
      "execution_count": 17,
      "outputs": [
        {
          "output_type": "stream",
          "text": [
            "<class 'pandas.core.frame.DataFrame'>\n",
            "RangeIndex: 244 entries, 0 to 243\n",
            "Data columns (total 6 columns):\n",
            " #   Column                 Non-Null Count  Dtype  \n",
            "---  ------                 --------------  -----  \n",
            " 0   Total_da_conta         244 non-null    float64\n",
            " 1   Gorjeta                244 non-null    float64\n",
            " 2   Sobremesa              244 non-null    object \n",
            " 3   Dia_da_Semana          244 non-null    object \n",
            " 4   Horario_do_Dia         244 non-null    object \n",
            " 5   Quantidade_de_pessoas  244 non-null    int64  \n",
            "dtypes: float64(2), int64(1), object(3)\n",
            "memory usage: 11.6+ KB\n"
          ],
          "name": "stdout"
        }
      ]
    },
    {
      "cell_type": "code",
      "metadata": {
        "colab": {
          "base_uri": "https://localhost:8080/"
        },
        "id": "lfowoZqbIj81",
        "outputId": "994d87d9-0e57-476a-94b9-9fd46650f39e"
      },
      "source": [
        "# Para confirmar, vamos utilizar o método 'count'. Ele vai contar todos os registros que não são nulos.\n",
        "\n",
        "print(f'A base de dados possui {dados.shape[0]} registros\\n')\n",
        "\n",
        "dados.count() # Conta os valores não nulos"
      ],
      "execution_count": 21,
      "outputs": [
        {
          "output_type": "stream",
          "text": [
            "A base de dados possui 244 registros\n",
            "\n"
          ],
          "name": "stdout"
        },
        {
          "output_type": "execute_result",
          "data": {
            "text/plain": [
              "Total_da_conta           244\n",
              "Gorjeta                  244\n",
              "Sobremesa                244\n",
              "Dia_da_Semana            244\n",
              "Horario_do_Dia           244\n",
              "Quantidade_de_pessoas    244\n",
              "dtype: int64"
            ]
          },
          "metadata": {
            "tags": []
          },
          "execution_count": 21
        }
      ]
    },
    {
      "cell_type": "markdown",
      "metadata": {
        "id": "hCWoFBuYKH5l"
      },
      "source": [
        "**Confirmando que a nossa base de dados não possui valores nulos, nós podemos, em um primeiro momento, confirmar que nossa primeira visualização representada no gráfico está correta**"
      ]
    },
    {
      "cell_type": "markdown",
      "metadata": {
        "id": "R4s79KlxLRFL"
      },
      "source": [
        "# Criando o campo porcentagem (%)\n",
        "\n",
        "#### A coluna 'porcentagem' mostra a porcentagem da gorjeta em relação ao valor total da compra."
      ]
    },
    {
      "cell_type": "code",
      "metadata": {
        "colab": {
          "base_uri": "https://localhost:8080/",
          "height": 204
        },
        "id": "hFTDLxW8LUrW",
        "outputId": "c4558cf6-2636-4924-ea08-cc9cd8f3f3b3"
      },
      "source": [
        "dados.head()"
      ],
      "execution_count": 23,
      "outputs": [
        {
          "output_type": "execute_result",
          "data": {
            "text/html": [
              "<div>\n",
              "<style scoped>\n",
              "    .dataframe tbody tr th:only-of-type {\n",
              "        vertical-align: middle;\n",
              "    }\n",
              "\n",
              "    .dataframe tbody tr th {\n",
              "        vertical-align: top;\n",
              "    }\n",
              "\n",
              "    .dataframe thead th {\n",
              "        text-align: right;\n",
              "    }\n",
              "</style>\n",
              "<table border=\"1\" class=\"dataframe\">\n",
              "  <thead>\n",
              "    <tr style=\"text-align: right;\">\n",
              "      <th></th>\n",
              "      <th>Total_da_conta</th>\n",
              "      <th>Gorjeta</th>\n",
              "      <th>Sobremesa</th>\n",
              "      <th>Dia_da_Semana</th>\n",
              "      <th>Horario_do_Dia</th>\n",
              "      <th>Quantidade_de_pessoas</th>\n",
              "    </tr>\n",
              "  </thead>\n",
              "  <tbody>\n",
              "    <tr>\n",
              "      <th>0</th>\n",
              "      <td>16.99</td>\n",
              "      <td>1.01</td>\n",
              "      <td>Não</td>\n",
              "      <td>Domingo</td>\n",
              "      <td>Jantar</td>\n",
              "      <td>2</td>\n",
              "    </tr>\n",
              "    <tr>\n",
              "      <th>1</th>\n",
              "      <td>10.34</td>\n",
              "      <td>1.66</td>\n",
              "      <td>Não</td>\n",
              "      <td>Domingo</td>\n",
              "      <td>Jantar</td>\n",
              "      <td>3</td>\n",
              "    </tr>\n",
              "    <tr>\n",
              "      <th>2</th>\n",
              "      <td>21.01</td>\n",
              "      <td>3.50</td>\n",
              "      <td>Não</td>\n",
              "      <td>Domingo</td>\n",
              "      <td>Jantar</td>\n",
              "      <td>3</td>\n",
              "    </tr>\n",
              "    <tr>\n",
              "      <th>3</th>\n",
              "      <td>23.68</td>\n",
              "      <td>3.31</td>\n",
              "      <td>Não</td>\n",
              "      <td>Domingo</td>\n",
              "      <td>Jantar</td>\n",
              "      <td>2</td>\n",
              "    </tr>\n",
              "    <tr>\n",
              "      <th>4</th>\n",
              "      <td>24.59</td>\n",
              "      <td>3.61</td>\n",
              "      <td>Não</td>\n",
              "      <td>Domingo</td>\n",
              "      <td>Jantar</td>\n",
              "      <td>4</td>\n",
              "    </tr>\n",
              "  </tbody>\n",
              "</table>\n",
              "</div>"
            ],
            "text/plain": [
              "   Total_da_conta  Gorjeta  ... Horario_do_Dia Quantidade_de_pessoas\n",
              "0           16.99     1.01  ...         Jantar                     2\n",
              "1           10.34     1.66  ...         Jantar                     3\n",
              "2           21.01     3.50  ...         Jantar                     3\n",
              "3           23.68     3.31  ...         Jantar                     2\n",
              "4           24.59     3.61  ...         Jantar                     4\n",
              "\n",
              "[5 rows x 6 columns]"
            ]
          },
          "metadata": {
            "tags": []
          },
          "execution_count": 23
        }
      ]
    },
    {
      "cell_type": "code",
      "metadata": {
        "colab": {
          "base_uri": "https://localhost:8080/",
          "height": 204
        },
        "id": "pKWvkuV3LYdl",
        "outputId": "52210962-238d-403a-e2b9-48d816c25e8b"
      },
      "source": [
        "dados['Porcentagem(%)'] = ((dados['Gorjeta']) / (dados['Total_da_conta']) * 100).round(2)\n",
        "dados.head()"
      ],
      "execution_count": 37,
      "outputs": [
        {
          "output_type": "execute_result",
          "data": {
            "text/html": [
              "<div>\n",
              "<style scoped>\n",
              "    .dataframe tbody tr th:only-of-type {\n",
              "        vertical-align: middle;\n",
              "    }\n",
              "\n",
              "    .dataframe tbody tr th {\n",
              "        vertical-align: top;\n",
              "    }\n",
              "\n",
              "    .dataframe thead th {\n",
              "        text-align: right;\n",
              "    }\n",
              "</style>\n",
              "<table border=\"1\" class=\"dataframe\">\n",
              "  <thead>\n",
              "    <tr style=\"text-align: right;\">\n",
              "      <th></th>\n",
              "      <th>Total_da_conta</th>\n",
              "      <th>Gorjeta</th>\n",
              "      <th>Sobremesa</th>\n",
              "      <th>Dia_da_Semana</th>\n",
              "      <th>Horario_do_Dia</th>\n",
              "      <th>Quantidade_de_pessoas</th>\n",
              "      <th>Porcentagem(%)</th>\n",
              "    </tr>\n",
              "  </thead>\n",
              "  <tbody>\n",
              "    <tr>\n",
              "      <th>0</th>\n",
              "      <td>16.99</td>\n",
              "      <td>1.01</td>\n",
              "      <td>Não</td>\n",
              "      <td>Domingo</td>\n",
              "      <td>Jantar</td>\n",
              "      <td>2</td>\n",
              "      <td>5.94</td>\n",
              "    </tr>\n",
              "    <tr>\n",
              "      <th>1</th>\n",
              "      <td>10.34</td>\n",
              "      <td>1.66</td>\n",
              "      <td>Não</td>\n",
              "      <td>Domingo</td>\n",
              "      <td>Jantar</td>\n",
              "      <td>3</td>\n",
              "      <td>16.05</td>\n",
              "    </tr>\n",
              "    <tr>\n",
              "      <th>2</th>\n",
              "      <td>21.01</td>\n",
              "      <td>3.50</td>\n",
              "      <td>Não</td>\n",
              "      <td>Domingo</td>\n",
              "      <td>Jantar</td>\n",
              "      <td>3</td>\n",
              "      <td>16.66</td>\n",
              "    </tr>\n",
              "    <tr>\n",
              "      <th>3</th>\n",
              "      <td>23.68</td>\n",
              "      <td>3.31</td>\n",
              "      <td>Não</td>\n",
              "      <td>Domingo</td>\n",
              "      <td>Jantar</td>\n",
              "      <td>2</td>\n",
              "      <td>13.98</td>\n",
              "    </tr>\n",
              "    <tr>\n",
              "      <th>4</th>\n",
              "      <td>24.59</td>\n",
              "      <td>3.61</td>\n",
              "      <td>Não</td>\n",
              "      <td>Domingo</td>\n",
              "      <td>Jantar</td>\n",
              "      <td>4</td>\n",
              "      <td>14.68</td>\n",
              "    </tr>\n",
              "  </tbody>\n",
              "</table>\n",
              "</div>"
            ],
            "text/plain": [
              "   Total_da_conta  Gorjeta  ... Quantidade_de_pessoas Porcentagem(%)\n",
              "0           16.99     1.01  ...                     2           5.94\n",
              "1           10.34     1.66  ...                     3          16.05\n",
              "2           21.01     3.50  ...                     3          16.66\n",
              "3           23.68     3.31  ...                     2          13.98\n",
              "4           24.59     3.61  ...                     4          14.68\n",
              "\n",
              "[5 rows x 7 columns]"
            ]
          },
          "metadata": {
            "tags": []
          },
          "execution_count": 37
        }
      ]
    },
    {
      "cell_type": "markdown",
      "metadata": {
        "id": "RVQP690LPyAM"
      },
      "source": [
        "# Análise exploratória - 2\n",
        "\n",
        "#### Descobrindo se o aumento da gorjeta é proporcional ao aumento do valor total da conta."
      ]
    },
    {
      "cell_type": "code",
      "metadata": {
        "colab": {
          "base_uri": "https://localhost:8080/",
          "height": 280
        },
        "id": "97m-yHlqPxPd",
        "outputId": "7cf14b9c-3b79-4cd1-b0ed-eceb36ea3062"
      },
      "source": [
        "percent_cont = sns.scatterplot(x='Total_da_conta', y='Porcentagem(%)', data=dados)"
      ],
      "execution_count": 39,
      "outputs": [
        {
          "output_type": "display_data",
          "data": {
            "image/png": "[encoded data removed]",
            "text/plain": [
              "<Figure size 432x288 with 1 Axes>"
            ]
          },
          "metadata": {
            "tags": [],
            "needs_background": "light"
          }
        }
      ]
    },
    {
      "cell_type": "markdown",
      "metadata": {
        "id": "qx6W3IDDRBiY"
      },
      "source": [
        "**Visualmente, podemos perceber que o aumento do valor da gorjeta não é proporcional ao aumento do valor total da compra.**\n",
        "\n",
        "**Nesse caso, mesmo que o valor da gorjeta seja maior quando o valor total da compra também é, esse aumento não é proporcional.**"
      ]
    }
  ]
}