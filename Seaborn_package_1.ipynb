{
  "nbformat": 4,
  "nbformat_minor": 0,
  "metadata": {
    "colab": {
      "name": "Seaborn_package_1.ipynb",
      "provenance": [],
      "authorship_tag": "ABX9TyPTVx9YAMvWJIYvfNQy28R4"
    },
    "kernelspec": {
      "name": "python3",
      "display_name": "Python 3"
    },
    "language_info": {
      "name": "python"
    }
  },
  "cells": [
    {
      "cell_type": "markdown",
      "metadata": {
        "id": "NPdNn4FusVDC"
      },
      "source": [
        "# Importando a base de dados.\n",
        "\n",
        "#### Com base em uma amostra de dados de gorjetas de outros países, onde não existe uma taxa fixa, vamos avaliar quatro tópicos: \n",
        "\n",
        "##### 1 - Se o valor da conta influência no valor da gorjeta e se esse aumento é proporcional\n",
        "##### 2 - Verificar a diferença de valores das gorjetas de quem pediu e quem não pediu sobremesa\n",
        "##### 3 - Verificar se o dia da semana interfere no valor da gorjeta\n",
        "##### 4 - Verificar em qual hora do dia a gorjeta é maior"
      ]
    },
    {
      "cell_type": "code",
      "metadata": {
        "id": "JMzBdFHAsLVq"
      },
      "source": [
        "import pandas as pd\n",
        "\n",
        "dados_raw = pd.read_csv('tips.csv')"
      ],
      "execution_count": 1,
      "outputs": []
    },
    {
      "cell_type": "code",
      "metadata": {
        "colab": {
          "base_uri": "https://localhost:8080/",
          "height": 0
        },
        "id": "nirEUtNYs9Kh",
        "outputId": "253e1b4b-6fe3-4d33-d8d6-15a96764ba7f"
      },
      "source": [
        "dados_raw.head()"
      ],
      "execution_count": 2,
      "outputs": [
        {
          "output_type": "execute_result",
          "data": {
            "text/html": [
              "<div>\n",
              "<style scoped>\n",
              "    .dataframe tbody tr th:only-of-type {\n",
              "        vertical-align: middle;\n",
              "    }\n",
              "\n",
              "    .dataframe tbody tr th {\n",
              "        vertical-align: top;\n",
              "    }\n",
              "\n",
              "    .dataframe thead th {\n",
              "        text-align: right;\n",
              "    }\n",
              "</style>\n",
              "<table border=\"1\" class=\"dataframe\">\n",
              "  <thead>\n",
              "    <tr style=\"text-align: right;\">\n",
              "      <th></th>\n",
              "      <th>total_bill</th>\n",
              "      <th>tip</th>\n",
              "      <th>dessert</th>\n",
              "      <th>day</th>\n",
              "      <th>time</th>\n",
              "      <th>size</th>\n",
              "    </tr>\n",
              "  </thead>\n",
              "  <tbody>\n",
              "    <tr>\n",
              "      <th>0</th>\n",
              "      <td>16.99</td>\n",
              "      <td>1.01</td>\n",
              "      <td>No</td>\n",
              "      <td>Sun</td>\n",
              "      <td>Dinner</td>\n",
              "      <td>2</td>\n",
              "    </tr>\n",
              "    <tr>\n",
              "      <th>1</th>\n",
              "      <td>10.34</td>\n",
              "      <td>1.66</td>\n",
              "      <td>No</td>\n",
              "      <td>Sun</td>\n",
              "      <td>Dinner</td>\n",
              "      <td>3</td>\n",
              "    </tr>\n",
              "    <tr>\n",
              "      <th>2</th>\n",
              "      <td>21.01</td>\n",
              "      <td>3.50</td>\n",
              "      <td>No</td>\n",
              "      <td>Sun</td>\n",
              "      <td>Dinner</td>\n",
              "      <td>3</td>\n",
              "    </tr>\n",
              "    <tr>\n",
              "      <th>3</th>\n",
              "      <td>23.68</td>\n",
              "      <td>3.31</td>\n",
              "      <td>No</td>\n",
              "      <td>Sun</td>\n",
              "      <td>Dinner</td>\n",
              "      <td>2</td>\n",
              "    </tr>\n",
              "    <tr>\n",
              "      <th>4</th>\n",
              "      <td>24.59</td>\n",
              "      <td>3.61</td>\n",
              "      <td>No</td>\n",
              "      <td>Sun</td>\n",
              "      <td>Dinner</td>\n",
              "      <td>4</td>\n",
              "    </tr>\n",
              "  </tbody>\n",
              "</table>\n",
              "</div>"
            ],
            "text/plain": [
              "   total_bill   tip dessert  day    time  size\n",
              "0       16.99  1.01      No  Sun  Dinner     2\n",
              "1       10.34  1.66      No  Sun  Dinner     3\n",
              "2       21.01  3.50      No  Sun  Dinner     3\n",
              "3       23.68  3.31      No  Sun  Dinner     2\n",
              "4       24.59  3.61      No  Sun  Dinner     4"
            ]
          },
          "metadata": {
            "tags": []
          },
          "execution_count": 2
        }
      ]
    },
    {
      "cell_type": "markdown",
      "metadata": {
        "id": "TOrezFp1ujL5"
      },
      "source": [
        "# Organizando os dados"
      ]
    },
    {
      "cell_type": "code",
      "metadata": {
        "id": "5q0_IAhUtEMC"
      },
      "source": [
        "# Utilizando o 'rename' vamos trocar os nomes das colunas\n",
        "\n",
        "dados = dados_raw.rename(columns={'total_bill': 'Total_da_conta', \n",
        "                      'tip':'Gorjeta', \n",
        "                      'dessert':'Sobremesa', \n",
        "                      'day':'Dia_da_Semana', \n",
        "                      'time':'Horario_do_Dia', \n",
        "                      'size':'Quantidade_de_pessoas'})"
      ],
      "execution_count": 3,
      "outputs": []
    },
    {
      "cell_type": "code",
      "metadata": {
        "colab": {
          "base_uri": "https://localhost:8080/",
          "height": 0
        },
        "id": "UlT5Pal4yRKU",
        "outputId": "652351de-1746-4743-b7d2-a91e5c105509"
      },
      "source": [
        "dados.head()"
      ],
      "execution_count": 4,
      "outputs": [
        {
          "output_type": "execute_result",
          "data": {
            "text/html": [
              "<div>\n",
              "<style scoped>\n",
              "    .dataframe tbody tr th:only-of-type {\n",
              "        vertical-align: middle;\n",
              "    }\n",
              "\n",
              "    .dataframe tbody tr th {\n",
              "        vertical-align: top;\n",
              "    }\n",
              "\n",
              "    .dataframe thead th {\n",
              "        text-align: right;\n",
              "    }\n",
              "</style>\n",
              "<table border=\"1\" class=\"dataframe\">\n",
              "  <thead>\n",
              "    <tr style=\"text-align: right;\">\n",
              "      <th></th>\n",
              "      <th>Total_da_conta</th>\n",
              "      <th>Gorjeta</th>\n",
              "      <th>Sobremesa</th>\n",
              "      <th>Dia_da_Semana</th>\n",
              "      <th>Horario_do_Dia</th>\n",
              "      <th>Quantidade_de_pessoas</th>\n",
              "    </tr>\n",
              "  </thead>\n",
              "  <tbody>\n",
              "    <tr>\n",
              "      <th>0</th>\n",
              "      <td>16.99</td>\n",
              "      <td>1.01</td>\n",
              "      <td>No</td>\n",
              "      <td>Sun</td>\n",
              "      <td>Dinner</td>\n",
              "      <td>2</td>\n",
              "    </tr>\n",
              "    <tr>\n",
              "      <th>1</th>\n",
              "      <td>10.34</td>\n",
              "      <td>1.66</td>\n",
              "      <td>No</td>\n",
              "      <td>Sun</td>\n",
              "      <td>Dinner</td>\n",
              "      <td>3</td>\n",
              "    </tr>\n",
              "    <tr>\n",
              "      <th>2</th>\n",
              "      <td>21.01</td>\n",
              "      <td>3.50</td>\n",
              "      <td>No</td>\n",
              "      <td>Sun</td>\n",
              "      <td>Dinner</td>\n",
              "      <td>3</td>\n",
              "    </tr>\n",
              "    <tr>\n",
              "      <th>3</th>\n",
              "      <td>23.68</td>\n",
              "      <td>3.31</td>\n",
              "      <td>No</td>\n",
              "      <td>Sun</td>\n",
              "      <td>Dinner</td>\n",
              "      <td>2</td>\n",
              "    </tr>\n",
              "    <tr>\n",
              "      <th>4</th>\n",
              "      <td>24.59</td>\n",
              "      <td>3.61</td>\n",
              "      <td>No</td>\n",
              "      <td>Sun</td>\n",
              "      <td>Dinner</td>\n",
              "      <td>4</td>\n",
              "    </tr>\n",
              "  </tbody>\n",
              "</table>\n",
              "</div>"
            ],
            "text/plain": [
              "   Total_da_conta  Gorjeta  ... Horario_do_Dia Quantidade_de_pessoas\n",
              "0           16.99     1.01  ...         Dinner                     2\n",
              "1           10.34     1.66  ...         Dinner                     3\n",
              "2           21.01     3.50  ...         Dinner                     3\n",
              "3           23.68     3.31  ...         Dinner                     2\n",
              "4           24.59     3.61  ...         Dinner                     4\n",
              "\n",
              "[5 rows x 6 columns]"
            ]
          },
          "metadata": {
            "tags": []
          },
          "execution_count": 4
        }
      ]
    },
    {
      "cell_type": "code",
      "metadata": {
        "colab": {
          "base_uri": "https://localhost:8080/"
        },
        "id": "J15U2aMmzuaP",
        "outputId": "beebc857-9d02-45d9-843a-0803a7a86102"
      },
      "source": [
        "dados.Sobremesa.unique()"
      ],
      "execution_count": 5,
      "outputs": [
        {
          "output_type": "execute_result",
          "data": {
            "text/plain": [
              "array(['No', 'Yes'], dtype=object)"
            ]
          },
          "metadata": {
            "tags": []
          },
          "execution_count": 5
        }
      ]
    },
    {
      "cell_type": "code",
      "metadata": {
        "id": "mkcGB50l1yO3"
      },
      "source": [
        "# Utilizando o 'map' podemos utilizar um dicionário para renomear os valores de todas a linhas\n",
        "\n",
        "dados.Sobremesa = dados.Sobremesa.map({'No':'Não', 'Yes':'Sim'})"
      ],
      "execution_count": 6,
      "outputs": []
    },
    {
      "cell_type": "code",
      "metadata": {
        "colab": {
          "base_uri": "https://localhost:8080/"
        },
        "id": "Rzz9rwas22pK",
        "outputId": "83656b8c-5f54-4c9a-cb06-ba3e7203dd6e"
      },
      "source": [
        "dados.Dia_da_Semana.unique()"
      ],
      "execution_count": 7,
      "outputs": [
        {
          "output_type": "execute_result",
          "data": {
            "text/plain": [
              "array(['Sun', 'Sat', 'Thur', 'Fri'], dtype=object)"
            ]
          },
          "metadata": {
            "tags": []
          },
          "execution_count": 7
        }
      ]
    },
    {
      "cell_type": "code",
      "metadata": {
        "id": "DslsUJXn4hz9"
      },
      "source": [
        "dados.Dia_da_Semana = dados.Dia_da_Semana.map({'Sun':'Domingo', 'Sat':'Sábado','Thur':'Quinta-Feira','Fri':'Sexta-Feira'})"
      ],
      "execution_count": 8,
      "outputs": []
    },
    {
      "cell_type": "code",
      "metadata": {
        "colab": {
          "base_uri": "https://localhost:8080/"
        },
        "id": "nK7MgbX85LIj",
        "outputId": "194f6012-d22d-491b-94bd-0d84e814f1cb"
      },
      "source": [
        "dados.Horario_do_Dia.unique()"
      ],
      "execution_count": 9,
      "outputs": [
        {
          "output_type": "execute_result",
          "data": {
            "text/plain": [
              "array(['Dinner', 'Lunch'], dtype=object)"
            ]
          },
          "metadata": {
            "tags": []
          },
          "execution_count": 9
        }
      ]
    },
    {
      "cell_type": "code",
      "metadata": {
        "id": "OgWR5Nka5RLj"
      },
      "source": [
        "dados.Horario_do_Dia = dados.Horario_do_Dia.map({'Dinner':'Jantar', 'Lunch':'Almoço'})"
      ],
      "execution_count": 10,
      "outputs": []
    },
    {
      "cell_type": "code",
      "metadata": {
        "colab": {
          "base_uri": "https://localhost:8080/",
          "height": 0
        },
        "id": "1FxbH_YJ5zYy",
        "outputId": "3e71491b-87e6-4afa-c98a-99f29ae828da"
      },
      "source": [
        "dados"
      ],
      "execution_count": 11,
      "outputs": [
        {
          "output_type": "execute_result",
          "data": {
            "text/html": [
              "<div>\n",
              "<style scoped>\n",
              "    .dataframe tbody tr th:only-of-type {\n",
              "        vertical-align: middle;\n",
              "    }\n",
              "\n",
              "    .dataframe tbody tr th {\n",
              "        vertical-align: top;\n",
              "    }\n",
              "\n",
              "    .dataframe thead th {\n",
              "        text-align: right;\n",
              "    }\n",
              "</style>\n",
              "<table border=\"1\" class=\"dataframe\">\n",
              "  <thead>\n",
              "    <tr style=\"text-align: right;\">\n",
              "      <th></th>\n",
              "      <th>Total_da_conta</th>\n",
              "      <th>Gorjeta</th>\n",
              "      <th>Sobremesa</th>\n",
              "      <th>Dia_da_Semana</th>\n",
              "      <th>Horario_do_Dia</th>\n",
              "      <th>Quantidade_de_pessoas</th>\n",
              "    </tr>\n",
              "  </thead>\n",
              "  <tbody>\n",
              "    <tr>\n",
              "      <th>0</th>\n",
              "      <td>16.99</td>\n",
              "      <td>1.01</td>\n",
              "      <td>Não</td>\n",
              "      <td>Domingo</td>\n",
              "      <td>Jantar</td>\n",
              "      <td>2</td>\n",
              "    </tr>\n",
              "    <tr>\n",
              "      <th>1</th>\n",
              "      <td>10.34</td>\n",
              "      <td>1.66</td>\n",
              "      <td>Não</td>\n",
              "      <td>Domingo</td>\n",
              "      <td>Jantar</td>\n",
              "      <td>3</td>\n",
              "    </tr>\n",
              "    <tr>\n",
              "      <th>2</th>\n",
              "      <td>21.01</td>\n",
              "      <td>3.50</td>\n",
              "      <td>Não</td>\n",
              "      <td>Domingo</td>\n",
              "      <td>Jantar</td>\n",
              "      <td>3</td>\n",
              "    </tr>\n",
              "    <tr>\n",
              "      <th>3</th>\n",
              "      <td>23.68</td>\n",
              "      <td>3.31</td>\n",
              "      <td>Não</td>\n",
              "      <td>Domingo</td>\n",
              "      <td>Jantar</td>\n",
              "      <td>2</td>\n",
              "    </tr>\n",
              "    <tr>\n",
              "      <th>4</th>\n",
              "      <td>24.59</td>\n",
              "      <td>3.61</td>\n",
              "      <td>Não</td>\n",
              "      <td>Domingo</td>\n",
              "      <td>Jantar</td>\n",
              "      <td>4</td>\n",
              "    </tr>\n",
              "    <tr>\n",
              "      <th>...</th>\n",
              "      <td>...</td>\n",
              "      <td>...</td>\n",
              "      <td>...</td>\n",
              "      <td>...</td>\n",
              "      <td>...</td>\n",
              "      <td>...</td>\n",
              "    </tr>\n",
              "    <tr>\n",
              "      <th>239</th>\n",
              "      <td>29.03</td>\n",
              "      <td>5.92</td>\n",
              "      <td>Não</td>\n",
              "      <td>Sábado</td>\n",
              "      <td>Jantar</td>\n",
              "      <td>3</td>\n",
              "    </tr>\n",
              "    <tr>\n",
              "      <th>240</th>\n",
              "      <td>27.18</td>\n",
              "      <td>2.00</td>\n",
              "      <td>Sim</td>\n",
              "      <td>Sábado</td>\n",
              "      <td>Jantar</td>\n",
              "      <td>2</td>\n",
              "    </tr>\n",
              "    <tr>\n",
              "      <th>241</th>\n",
              "      <td>22.67</td>\n",
              "      <td>2.00</td>\n",
              "      <td>Sim</td>\n",
              "      <td>Sábado</td>\n",
              "      <td>Jantar</td>\n",
              "      <td>2</td>\n",
              "    </tr>\n",
              "    <tr>\n",
              "      <th>242</th>\n",
              "      <td>17.82</td>\n",
              "      <td>1.75</td>\n",
              "      <td>Não</td>\n",
              "      <td>Sábado</td>\n",
              "      <td>Jantar</td>\n",
              "      <td>2</td>\n",
              "    </tr>\n",
              "    <tr>\n",
              "      <th>243</th>\n",
              "      <td>18.78</td>\n",
              "      <td>3.00</td>\n",
              "      <td>Não</td>\n",
              "      <td>Quinta-Feira</td>\n",
              "      <td>Jantar</td>\n",
              "      <td>2</td>\n",
              "    </tr>\n",
              "  </tbody>\n",
              "</table>\n",
              "<p>244 rows × 6 columns</p>\n",
              "</div>"
            ],
            "text/plain": [
              "     Total_da_conta  Gorjeta  ... Horario_do_Dia Quantidade_de_pessoas\n",
              "0             16.99     1.01  ...         Jantar                     2\n",
              "1             10.34     1.66  ...         Jantar                     3\n",
              "2             21.01     3.50  ...         Jantar                     3\n",
              "3             23.68     3.31  ...         Jantar                     2\n",
              "4             24.59     3.61  ...         Jantar                     4\n",
              "..              ...      ...  ...            ...                   ...\n",
              "239           29.03     5.92  ...         Jantar                     3\n",
              "240           27.18     2.00  ...         Jantar                     2\n",
              "241           22.67     2.00  ...         Jantar                     2\n",
              "242           17.82     1.75  ...         Jantar                     2\n",
              "243           18.78     3.00  ...         Jantar                     2\n",
              "\n",
              "[244 rows x 6 columns]"
            ]
          },
          "metadata": {
            "tags": []
          },
          "execution_count": 11
        }
      ]
    },
    {
      "cell_type": "markdown",
      "metadata": {
        "id": "00MchgTK7ARg"
      },
      "source": [
        "#**Aqui vamos explorar o tópico 1:**\n",
        "\n",
        "### *1 - Verificar se o valor da conta influencia no valor da gorjeta e se esse aumento é proporcional*\n",
        "\n",
        "**Análise exploratória - parte 1**\n"
      ]
    },
    {
      "cell_type": "code",
      "metadata": {
        "id": "X6Z0CMxl5zqW"
      },
      "source": [
        "import seaborn as sns"
      ],
      "execution_count": 12,
      "outputs": []
    },
    {
      "cell_type": "code",
      "metadata": {
        "colab": {
          "base_uri": "https://localhost:8080/"
        },
        "id": "ykOQPvjx9w_v",
        "outputId": "f4cbc276-9c58-4204-c314-7893ad958d5f"
      },
      "source": [
        "dados.columns"
      ],
      "execution_count": 13,
      "outputs": [
        {
          "output_type": "execute_result",
          "data": {
            "text/plain": [
              "Index(['Total_da_conta', 'Gorjeta', 'Sobremesa', 'Dia_da_Semana',\n",
              "       'Horario_do_Dia', 'Quantidade_de_pessoas'],\n",
              "      dtype='object')"
            ]
          },
          "metadata": {
            "tags": []
          },
          "execution_count": 13
        }
      ]
    },
    {
      "cell_type": "code",
      "metadata": {
        "colab": {
          "base_uri": "https://localhost:8080/",
          "height": 297
        },
        "id": "QLc2ngh08HMf",
        "outputId": "27daac69-87c3-422c-c762-5d3f3e119b74"
      },
      "source": [
        "# Vamos criar um gráfico do tipo scatterplot para tentar ancontrar alguma relação entre o valor da conta e a gorjeta.\n",
        "# Para plotar o gráfico nós devemos passar três argumentos:\n",
        "\n",
        "# x = Os valores que serão representados no eixo x\n",
        "# y = Os valores que serão representados no eixo y\n",
        "# data = A base de dados que será utilizada\n",
        "\n",
        "sns.scatterplot(x='Total_da_conta', y='Gorjeta', data=dados)"
      ],
      "execution_count": 14,
      "outputs": [
        {
          "output_type": "execute_result",
          "data": {
            "text/plain": [
              "<matplotlib.axes._subplots.AxesSubplot at 0x7fe8b58991d0>"
            ]
          },
          "metadata": {
            "tags": []
          },
          "execution_count": 14
        },
        {
          "output_type": "display_data",
          "data": {
            "image/png": "[encoded data removed]",
            "text/plain": [
              "<Figure size 432x288 with 1 Axes>"
            ]
          },
          "metadata": {
            "tags": [],
            "needs_background": "light"
          }
        }
      ]
    },
    {
      "cell_type": "markdown",
      "metadata": {
        "id": "GCN_Iwk_HJ3u"
      },
      "source": [
        "**Inicialmente, o valor da gorjeta parece aumentar conforme o valor total da conta também aumenta.**"
      ]
    },
    {
      "cell_type": "code",
      "metadata": {
        "id": "_dvY_Wxe_HHj"
      },
      "source": [
        "# A mensagem <matplotlib.axes._subplots.AxesSubplot at 0x7fe8b58991d0> que aparece acima da imagem é o endereço da memória onde a imagem está armazenada.\n",
        "# Você pode utilizar uma variável para armazenar esse endereço, assim ele não aparecerá acima da imagem.\n",
        "\n",
        "# EX:\n",
        "# Criei uma variável chamada 'MI' para armazenar esse valor\n",
        "\n",
        "# MI = sns.scatterplot(x='Total_da_conta', y='Gorjeta', data=dados)\n",
        "\n",
        "# MI => Armazena o endereço de memória onde a imágem está localizada."
      ],
      "execution_count": 15,
      "outputs": []
    },
    {
      "cell_type": "markdown",
      "metadata": {
        "id": "5hHJiqpGHzo4"
      },
      "source": [
        "**Vamos visualizar se nossa base possui valore nulos**"
      ]
    },
    {
      "cell_type": "code",
      "metadata": {
        "colab": {
          "base_uri": "https://localhost:8080/",
          "height": 204
        },
        "id": "Pf34jh86IoYf",
        "outputId": "ac67d657-03c4-43bc-f4fe-bfba2c8cd7cf"
      },
      "source": [
        "# Vmaos visulizar uma amostra dos dados\n",
        "\n",
        "dados.head()"
      ],
      "execution_count": 16,
      "outputs": [
        {
          "output_type": "execute_result",
          "data": {
            "text/html": [
              "<div>\n",
              "<style scoped>\n",
              "    .dataframe tbody tr th:only-of-type {\n",
              "        vertical-align: middle;\n",
              "    }\n",
              "\n",
              "    .dataframe tbody tr th {\n",
              "        vertical-align: top;\n",
              "    }\n",
              "\n",
              "    .dataframe thead th {\n",
              "        text-align: right;\n",
              "    }\n",
              "</style>\n",
              "<table border=\"1\" class=\"dataframe\">\n",
              "  <thead>\n",
              "    <tr style=\"text-align: right;\">\n",
              "      <th></th>\n",
              "      <th>Total_da_conta</th>\n",
              "      <th>Gorjeta</th>\n",
              "      <th>Sobremesa</th>\n",
              "      <th>Dia_da_Semana</th>\n",
              "      <th>Horario_do_Dia</th>\n",
              "      <th>Quantidade_de_pessoas</th>\n",
              "    </tr>\n",
              "  </thead>\n",
              "  <tbody>\n",
              "    <tr>\n",
              "      <th>0</th>\n",
              "      <td>16.99</td>\n",
              "      <td>1.01</td>\n",
              "      <td>Não</td>\n",
              "      <td>Domingo</td>\n",
              "      <td>Jantar</td>\n",
              "      <td>2</td>\n",
              "    </tr>\n",
              "    <tr>\n",
              "      <th>1</th>\n",
              "      <td>10.34</td>\n",
              "      <td>1.66</td>\n",
              "      <td>Não</td>\n",
              "      <td>Domingo</td>\n",
              "      <td>Jantar</td>\n",
              "      <td>3</td>\n",
              "    </tr>\n",
              "    <tr>\n",
              "      <th>2</th>\n",
              "      <td>21.01</td>\n",
              "      <td>3.50</td>\n",
              "      <td>Não</td>\n",
              "      <td>Domingo</td>\n",
              "      <td>Jantar</td>\n",
              "      <td>3</td>\n",
              "    </tr>\n",
              "    <tr>\n",
              "      <th>3</th>\n",
              "      <td>23.68</td>\n",
              "      <td>3.31</td>\n",
              "      <td>Não</td>\n",
              "      <td>Domingo</td>\n",
              "      <td>Jantar</td>\n",
              "      <td>2</td>\n",
              "    </tr>\n",
              "    <tr>\n",
              "      <th>4</th>\n",
              "      <td>24.59</td>\n",
              "      <td>3.61</td>\n",
              "      <td>Não</td>\n",
              "      <td>Domingo</td>\n",
              "      <td>Jantar</td>\n",
              "      <td>4</td>\n",
              "    </tr>\n",
              "  </tbody>\n",
              "</table>\n",
              "</div>"
            ],
            "text/plain": [
              "   Total_da_conta  Gorjeta  ... Horario_do_Dia Quantidade_de_pessoas\n",
              "0           16.99     1.01  ...         Jantar                     2\n",
              "1           10.34     1.66  ...         Jantar                     3\n",
              "2           21.01     3.50  ...         Jantar                     3\n",
              "3           23.68     3.31  ...         Jantar                     2\n",
              "4           24.59     3.61  ...         Jantar                     4\n",
              "\n",
              "[5 rows x 6 columns]"
            ]
          },
          "metadata": {
            "tags": []
          },
          "execution_count": 16
        }
      ]
    },
    {
      "cell_type": "code",
      "metadata": {
        "colab": {
          "base_uri": "https://localhost:8080/"
        },
        "id": "5284BBm2_u5M",
        "outputId": "ef7b838c-7afd-4acb-c22f-df1845cca267"
      },
      "source": [
        "# Utilizando o 'info' podemos ver que temos 244 linhas e, aparentemente, nenhuma dela é NAN\n",
        "\n",
        "dados.info()"
      ],
      "execution_count": 17,
      "outputs": [
        {
          "output_type": "stream",
          "text": [
            "<class 'pandas.core.frame.DataFrame'>\n",
            "RangeIndex: 244 entries, 0 to 243\n",
            "Data columns (total 6 columns):\n",
            " #   Column                 Non-Null Count  Dtype  \n",
            "---  ------                 --------------  -----  \n",
            " 0   Total_da_conta         244 non-null    float64\n",
            " 1   Gorjeta                244 non-null    float64\n",
            " 2   Sobremesa              244 non-null    object \n",
            " 3   Dia_da_Semana          244 non-null    object \n",
            " 4   Horario_do_Dia         244 non-null    object \n",
            " 5   Quantidade_de_pessoas  244 non-null    int64  \n",
            "dtypes: float64(2), int64(1), object(3)\n",
            "memory usage: 11.6+ KB\n"
          ],
          "name": "stdout"
        }
      ]
    },
    {
      "cell_type": "code",
      "metadata": {
        "colab": {
          "base_uri": "https://localhost:8080/"
        },
        "id": "lfowoZqbIj81",
        "outputId": "0f1bbb1e-d725-4637-c96f-038c885853e8"
      },
      "source": [
        "# Para confirmar, vamos utilizar o método 'count'. Ele vai contar todos os registros que não são nulos.\n",
        "\n",
        "print(f'A base de dados possui {dados.shape[0]} registros\\n')\n",
        "\n",
        "dados.count() # Conta os valores não nulos"
      ],
      "execution_count": 18,
      "outputs": [
        {
          "output_type": "stream",
          "text": [
            "A base de dados possui 244 registros\n",
            "\n"
          ],
          "name": "stdout"
        },
        {
          "output_type": "execute_result",
          "data": {
            "text/plain": [
              "Total_da_conta           244\n",
              "Gorjeta                  244\n",
              "Sobremesa                244\n",
              "Dia_da_Semana            244\n",
              "Horario_do_Dia           244\n",
              "Quantidade_de_pessoas    244\n",
              "dtype: int64"
            ]
          },
          "metadata": {
            "tags": []
          },
          "execution_count": 18
        }
      ]
    },
    {
      "cell_type": "markdown",
      "metadata": {
        "id": "hCWoFBuYKH5l"
      },
      "source": [
        "**Confirmando que a nossa base de dados não possui valores nulos, nós podemos, em um primeiro momento, confirmar que nossa primeira visualização representada no gráfico está correta**"
      ]
    },
    {
      "cell_type": "markdown",
      "metadata": {
        "id": "R4s79KlxLRFL"
      },
      "source": [
        "## Criando o campo porcentagem (%)"
      ]
    },
    {
      "cell_type": "markdown",
      "metadata": {
        "id": "x_rTHaaFY8cE"
      },
      "source": [
        "**A coluna 'porcentagem' mostra a porcentagem da gorjeta em relação ao valor total da compra.**"
      ]
    },
    {
      "cell_type": "code",
      "metadata": {
        "colab": {
          "base_uri": "https://localhost:8080/",
          "height": 204
        },
        "id": "hFTDLxW8LUrW",
        "outputId": "f6573174-e7da-4cd5-d532-13bcecc147ff"
      },
      "source": [
        "dados.head()"
      ],
      "execution_count": 19,
      "outputs": [
        {
          "output_type": "execute_result",
          "data": {
            "text/html": [
              "<div>\n",
              "<style scoped>\n",
              "    .dataframe tbody tr th:only-of-type {\n",
              "        vertical-align: middle;\n",
              "    }\n",
              "\n",
              "    .dataframe tbody tr th {\n",
              "        vertical-align: top;\n",
              "    }\n",
              "\n",
              "    .dataframe thead th {\n",
              "        text-align: right;\n",
              "    }\n",
              "</style>\n",
              "<table border=\"1\" class=\"dataframe\">\n",
              "  <thead>\n",
              "    <tr style=\"text-align: right;\">\n",
              "      <th></th>\n",
              "      <th>Total_da_conta</th>\n",
              "      <th>Gorjeta</th>\n",
              "      <th>Sobremesa</th>\n",
              "      <th>Dia_da_Semana</th>\n",
              "      <th>Horario_do_Dia</th>\n",
              "      <th>Quantidade_de_pessoas</th>\n",
              "    </tr>\n",
              "  </thead>\n",
              "  <tbody>\n",
              "    <tr>\n",
              "      <th>0</th>\n",
              "      <td>16.99</td>\n",
              "      <td>1.01</td>\n",
              "      <td>Não</td>\n",
              "      <td>Domingo</td>\n",
              "      <td>Jantar</td>\n",
              "      <td>2</td>\n",
              "    </tr>\n",
              "    <tr>\n",
              "      <th>1</th>\n",
              "      <td>10.34</td>\n",
              "      <td>1.66</td>\n",
              "      <td>Não</td>\n",
              "      <td>Domingo</td>\n",
              "      <td>Jantar</td>\n",
              "      <td>3</td>\n",
              "    </tr>\n",
              "    <tr>\n",
              "      <th>2</th>\n",
              "      <td>21.01</td>\n",
              "      <td>3.50</td>\n",
              "      <td>Não</td>\n",
              "      <td>Domingo</td>\n",
              "      <td>Jantar</td>\n",
              "      <td>3</td>\n",
              "    </tr>\n",
              "    <tr>\n",
              "      <th>3</th>\n",
              "      <td>23.68</td>\n",
              "      <td>3.31</td>\n",
              "      <td>Não</td>\n",
              "      <td>Domingo</td>\n",
              "      <td>Jantar</td>\n",
              "      <td>2</td>\n",
              "    </tr>\n",
              "    <tr>\n",
              "      <th>4</th>\n",
              "      <td>24.59</td>\n",
              "      <td>3.61</td>\n",
              "      <td>Não</td>\n",
              "      <td>Domingo</td>\n",
              "      <td>Jantar</td>\n",
              "      <td>4</td>\n",
              "    </tr>\n",
              "  </tbody>\n",
              "</table>\n",
              "</div>"
            ],
            "text/plain": [
              "   Total_da_conta  Gorjeta  ... Horario_do_Dia Quantidade_de_pessoas\n",
              "0           16.99     1.01  ...         Jantar                     2\n",
              "1           10.34     1.66  ...         Jantar                     3\n",
              "2           21.01     3.50  ...         Jantar                     3\n",
              "3           23.68     3.31  ...         Jantar                     2\n",
              "4           24.59     3.61  ...         Jantar                     4\n",
              "\n",
              "[5 rows x 6 columns]"
            ]
          },
          "metadata": {
            "tags": []
          },
          "execution_count": 19
        }
      ]
    },
    {
      "cell_type": "code",
      "metadata": {
        "colab": {
          "base_uri": "https://localhost:8080/",
          "height": 204
        },
        "id": "pKWvkuV3LYdl",
        "outputId": "924ad1bd-ac5b-44d1-8f82-33bb16f949d5"
      },
      "source": [
        "dados['Porcentagem'] = ((dados['Gorjeta']) / (dados['Total_da_conta']) * 100).round(2)\n",
        "dados.head()"
      ],
      "execution_count": 20,
      "outputs": [
        {
          "output_type": "execute_result",
          "data": {
            "text/html": [
              "<div>\n",
              "<style scoped>\n",
              "    .dataframe tbody tr th:only-of-type {\n",
              "        vertical-align: middle;\n",
              "    }\n",
              "\n",
              "    .dataframe tbody tr th {\n",
              "        vertical-align: top;\n",
              "    }\n",
              "\n",
              "    .dataframe thead th {\n",
              "        text-align: right;\n",
              "    }\n",
              "</style>\n",
              "<table border=\"1\" class=\"dataframe\">\n",
              "  <thead>\n",
              "    <tr style=\"text-align: right;\">\n",
              "      <th></th>\n",
              "      <th>Total_da_conta</th>\n",
              "      <th>Gorjeta</th>\n",
              "      <th>Sobremesa</th>\n",
              "      <th>Dia_da_Semana</th>\n",
              "      <th>Horario_do_Dia</th>\n",
              "      <th>Quantidade_de_pessoas</th>\n",
              "      <th>Porcentagem</th>\n",
              "    </tr>\n",
              "  </thead>\n",
              "  <tbody>\n",
              "    <tr>\n",
              "      <th>0</th>\n",
              "      <td>16.99</td>\n",
              "      <td>1.01</td>\n",
              "      <td>Não</td>\n",
              "      <td>Domingo</td>\n",
              "      <td>Jantar</td>\n",
              "      <td>2</td>\n",
              "      <td>5.94</td>\n",
              "    </tr>\n",
              "    <tr>\n",
              "      <th>1</th>\n",
              "      <td>10.34</td>\n",
              "      <td>1.66</td>\n",
              "      <td>Não</td>\n",
              "      <td>Domingo</td>\n",
              "      <td>Jantar</td>\n",
              "      <td>3</td>\n",
              "      <td>16.05</td>\n",
              "    </tr>\n",
              "    <tr>\n",
              "      <th>2</th>\n",
              "      <td>21.01</td>\n",
              "      <td>3.50</td>\n",
              "      <td>Não</td>\n",
              "      <td>Domingo</td>\n",
              "      <td>Jantar</td>\n",
              "      <td>3</td>\n",
              "      <td>16.66</td>\n",
              "    </tr>\n",
              "    <tr>\n",
              "      <th>3</th>\n",
              "      <td>23.68</td>\n",
              "      <td>3.31</td>\n",
              "      <td>Não</td>\n",
              "      <td>Domingo</td>\n",
              "      <td>Jantar</td>\n",
              "      <td>2</td>\n",
              "      <td>13.98</td>\n",
              "    </tr>\n",
              "    <tr>\n",
              "      <th>4</th>\n",
              "      <td>24.59</td>\n",
              "      <td>3.61</td>\n",
              "      <td>Não</td>\n",
              "      <td>Domingo</td>\n",
              "      <td>Jantar</td>\n",
              "      <td>4</td>\n",
              "      <td>14.68</td>\n",
              "    </tr>\n",
              "  </tbody>\n",
              "</table>\n",
              "</div>"
            ],
            "text/plain": [
              "   Total_da_conta  Gorjeta  ... Quantidade_de_pessoas Porcentagem\n",
              "0           16.99     1.01  ...                     2        5.94\n",
              "1           10.34     1.66  ...                     3       16.05\n",
              "2           21.01     3.50  ...                     3       16.66\n",
              "3           23.68     3.31  ...                     2       13.98\n",
              "4           24.59     3.61  ...                     4       14.68\n",
              "\n",
              "[5 rows x 7 columns]"
            ]
          },
          "metadata": {
            "tags": []
          },
          "execution_count": 20
        }
      ]
    },
    {
      "cell_type": "markdown",
      "metadata": {
        "id": "RVQP690LPyAM"
      },
      "source": [
        "## **Análise exploratória - parte 2**"
      ]
    },
    {
      "cell_type": "markdown",
      "metadata": {
        "id": "ZHWNtQfSZIyB"
      },
      "source": [
        "Descobrindo se o aumento da gorjeta é proporcional ao aumento do valor total da conta."
      ]
    },
    {
      "cell_type": "code",
      "metadata": {
        "colab": {
          "base_uri": "https://localhost:8080/",
          "height": 280
        },
        "id": "97m-yHlqPxPd",
        "outputId": "abaf1bb6-9e15-4adb-dc28-2e3b9171ebb8"
      },
      "source": [
        "MI = sns.scatterplot(x='Total_da_conta', y='Porcentagem', data=dados)"
      ],
      "execution_count": 21,
      "outputs": [
        {
          "output_type": "display_data",
          "data": {
            "image/png": "[encoded data removed]",
            "text/plain": [
              "<Figure size 432x288 with 1 Axes>"
            ]
          },
          "metadata": {
            "tags": [],
            "needs_background": "light"
          }
        }
      ]
    },
    {
      "cell_type": "markdown",
      "metadata": {
        "id": "qx6W3IDDRBiY"
      },
      "source": [
        "**Visualmente, podemos perceber que o aumento do valor da gorjeta não é proporcional ao aumento do valor total da compra.**\n",
        "\n",
        "**Nesse caso, mesmo que o valor da gorjeta seja maior quando o valor total da compra também é, esse aumento não é proporcional.**"
      ]
    },
    {
      "cell_type": "code",
      "metadata": {
        "colab": {
          "base_uri": "https://localhost:8080/",
          "height": 384
        },
        "id": "q1uxPZ_gbA9W",
        "outputId": "9517084e-a375-4ca6-d2c3-0cb22db5bb30"
      },
      "source": [
        "# Existem outros tipode gráfico que podem tentar ajudar na visualização\n",
        "\n",
        "# No gráfico abaixo, utilizando o 'relplot' podemos notar uma leve queda.\n",
        "\n",
        "MI = sns.relplot(x='Total_da_conta', y='Porcentagem', kind='line', data=dados) # O parâmetro 'kind indica o tipo de gráfico que será plotado"
      ],
      "execution_count": 22,
      "outputs": [
        {
          "output_type": "display_data",
          "data": {
            "image/png": "[encoded data removed]",
            "text/plain": [
              "<Figure size 360x360 with 1 Axes>"
            ]
          },
          "metadata": {
            "tags": [],
            "needs_background": "light"
          }
        }
      ]
    },
    {
      "cell_type": "code",
      "metadata": {
        "colab": {
          "base_uri": "https://localhost:8080/",
          "height": 384
        },
        "id": "j8v0kLj-eQan",
        "outputId": "1683c709-5a86-4bfc-cc29-cd46ecdf9459"
      },
      "source": [
        "# Utilizando o 'lplot' fica mais evidente a queda da porcentagem quando o valor aumenta\n",
        "\n",
        "MI = sns.lmplot(x='Total_da_conta', y='Porcentagem', data=dados) "
      ],
      "execution_count": 23,
      "outputs": [
        {
          "output_type": "display_data",
          "data": {
            "image/png": "[encoded data removed]",
            "text/plain": [
              "<Figure size 360x360 with 1 Axes>"
            ]
          },
          "metadata": {
            "tags": [],
            "needs_background": "light"
          }
        }
      ]
    },
    {
      "cell_type": "markdown",
      "metadata": {
        "id": "Zg5PMsutTMD0"
      },
      "source": [
        "# **Aqui vamos explorar o tópico 2:**\n",
        "### *2 - Verificar a diferença de valores das gorjetas de quem pediu e quem não pediu sobremesa*\n",
        "\n",
        "##### Análise descritiva\n",
        "\n"
      ]
    },
    {
      "cell_type": "code",
      "metadata": {
        "id": "a_-dXC1ZTK31",
        "colab": {
          "base_uri": "https://localhost:8080/",
          "height": 204
        },
        "outputId": "54e7f43d-bd0b-49ce-d0b7-d5250fa245d3"
      },
      "source": [
        "dados.head()"
      ],
      "execution_count": 24,
      "outputs": [
        {
          "output_type": "execute_result",
          "data": {
            "text/html": [
              "<div>\n",
              "<style scoped>\n",
              "    .dataframe tbody tr th:only-of-type {\n",
              "        vertical-align: middle;\n",
              "    }\n",
              "\n",
              "    .dataframe tbody tr th {\n",
              "        vertical-align: top;\n",
              "    }\n",
              "\n",
              "    .dataframe thead th {\n",
              "        text-align: right;\n",
              "    }\n",
              "</style>\n",
              "<table border=\"1\" class=\"dataframe\">\n",
              "  <thead>\n",
              "    <tr style=\"text-align: right;\">\n",
              "      <th></th>\n",
              "      <th>Total_da_conta</th>\n",
              "      <th>Gorjeta</th>\n",
              "      <th>Sobremesa</th>\n",
              "      <th>Dia_da_Semana</th>\n",
              "      <th>Horario_do_Dia</th>\n",
              "      <th>Quantidade_de_pessoas</th>\n",
              "      <th>Porcentagem</th>\n",
              "    </tr>\n",
              "  </thead>\n",
              "  <tbody>\n",
              "    <tr>\n",
              "      <th>0</th>\n",
              "      <td>16.99</td>\n",
              "      <td>1.01</td>\n",
              "      <td>Não</td>\n",
              "      <td>Domingo</td>\n",
              "      <td>Jantar</td>\n",
              "      <td>2</td>\n",
              "      <td>5.94</td>\n",
              "    </tr>\n",
              "    <tr>\n",
              "      <th>1</th>\n",
              "      <td>10.34</td>\n",
              "      <td>1.66</td>\n",
              "      <td>Não</td>\n",
              "      <td>Domingo</td>\n",
              "      <td>Jantar</td>\n",
              "      <td>3</td>\n",
              "      <td>16.05</td>\n",
              "    </tr>\n",
              "    <tr>\n",
              "      <th>2</th>\n",
              "      <td>21.01</td>\n",
              "      <td>3.50</td>\n",
              "      <td>Não</td>\n",
              "      <td>Domingo</td>\n",
              "      <td>Jantar</td>\n",
              "      <td>3</td>\n",
              "      <td>16.66</td>\n",
              "    </tr>\n",
              "    <tr>\n",
              "      <th>3</th>\n",
              "      <td>23.68</td>\n",
              "      <td>3.31</td>\n",
              "      <td>Não</td>\n",
              "      <td>Domingo</td>\n",
              "      <td>Jantar</td>\n",
              "      <td>2</td>\n",
              "      <td>13.98</td>\n",
              "    </tr>\n",
              "    <tr>\n",
              "      <th>4</th>\n",
              "      <td>24.59</td>\n",
              "      <td>3.61</td>\n",
              "      <td>Não</td>\n",
              "      <td>Domingo</td>\n",
              "      <td>Jantar</td>\n",
              "      <td>4</td>\n",
              "      <td>14.68</td>\n",
              "    </tr>\n",
              "  </tbody>\n",
              "</table>\n",
              "</div>"
            ],
            "text/plain": [
              "   Total_da_conta  Gorjeta  ... Quantidade_de_pessoas Porcentagem\n",
              "0           16.99     1.01  ...                     2        5.94\n",
              "1           10.34     1.66  ...                     3       16.05\n",
              "2           21.01     3.50  ...                     3       16.66\n",
              "3           23.68     3.31  ...                     2       13.98\n",
              "4           24.59     3.61  ...                     4       14.68\n",
              "\n",
              "[5 rows x 7 columns]"
            ]
          },
          "metadata": {
            "tags": []
          },
          "execution_count": 24
        }
      ]
    },
    {
      "cell_type": "code",
      "metadata": {
        "colab": {
          "base_uri": "https://localhost:8080/",
          "height": 297
        },
        "id": "3p5ehjnQoaux",
        "outputId": "24de8c5b-3477-4c70-adbd-ec3bf5a6f74f"
      },
      "source": [
        "# Vendo a descrição de quem pediu sobremesa\n",
        "\n",
        "dados[dados.Sobremesa == 'Sim'].describe()"
      ],
      "execution_count": 25,
      "outputs": [
        {
          "output_type": "execute_result",
          "data": {
            "text/html": [
              "<div>\n",
              "<style scoped>\n",
              "    .dataframe tbody tr th:only-of-type {\n",
              "        vertical-align: middle;\n",
              "    }\n",
              "\n",
              "    .dataframe tbody tr th {\n",
              "        vertical-align: top;\n",
              "    }\n",
              "\n",
              "    .dataframe thead th {\n",
              "        text-align: right;\n",
              "    }\n",
              "</style>\n",
              "<table border=\"1\" class=\"dataframe\">\n",
              "  <thead>\n",
              "    <tr style=\"text-align: right;\">\n",
              "      <th></th>\n",
              "      <th>Total_da_conta</th>\n",
              "      <th>Gorjeta</th>\n",
              "      <th>Quantidade_de_pessoas</th>\n",
              "      <th>Porcentagem</th>\n",
              "    </tr>\n",
              "  </thead>\n",
              "  <tbody>\n",
              "    <tr>\n",
              "      <th>count</th>\n",
              "      <td>93.000000</td>\n",
              "      <td>93.000000</td>\n",
              "      <td>93.000000</td>\n",
              "      <td>93.000000</td>\n",
              "    </tr>\n",
              "    <tr>\n",
              "      <th>mean</th>\n",
              "      <td>20.756344</td>\n",
              "      <td>3.008710</td>\n",
              "      <td>2.408602</td>\n",
              "      <td>16.319140</td>\n",
              "    </tr>\n",
              "    <tr>\n",
              "      <th>std</th>\n",
              "      <td>9.832154</td>\n",
              "      <td>1.401468</td>\n",
              "      <td>0.810751</td>\n",
              "      <td>8.511748</td>\n",
              "    </tr>\n",
              "    <tr>\n",
              "      <th>min</th>\n",
              "      <td>3.070000</td>\n",
              "      <td>1.000000</td>\n",
              "      <td>1.000000</td>\n",
              "      <td>3.560000</td>\n",
              "    </tr>\n",
              "    <tr>\n",
              "      <th>25%</th>\n",
              "      <td>13.420000</td>\n",
              "      <td>2.000000</td>\n",
              "      <td>2.000000</td>\n",
              "      <td>10.680000</td>\n",
              "    </tr>\n",
              "    <tr>\n",
              "      <th>50%</th>\n",
              "      <td>17.920000</td>\n",
              "      <td>3.000000</td>\n",
              "      <td>2.000000</td>\n",
              "      <td>15.380000</td>\n",
              "    </tr>\n",
              "    <tr>\n",
              "      <th>75%</th>\n",
              "      <td>26.860000</td>\n",
              "      <td>3.680000</td>\n",
              "      <td>3.000000</td>\n",
              "      <td>19.510000</td>\n",
              "    </tr>\n",
              "    <tr>\n",
              "      <th>max</th>\n",
              "      <td>50.810000</td>\n",
              "      <td>10.000000</td>\n",
              "      <td>5.000000</td>\n",
              "      <td>71.030000</td>\n",
              "    </tr>\n",
              "  </tbody>\n",
              "</table>\n",
              "</div>"
            ],
            "text/plain": [
              "       Total_da_conta    Gorjeta  Quantidade_de_pessoas  Porcentagem\n",
              "count       93.000000  93.000000              93.000000    93.000000\n",
              "mean        20.756344   3.008710               2.408602    16.319140\n",
              "std          9.832154   1.401468               0.810751     8.511748\n",
              "min          3.070000   1.000000               1.000000     3.560000\n",
              "25%         13.420000   2.000000               2.000000    10.680000\n",
              "50%         17.920000   3.000000               2.000000    15.380000\n",
              "75%         26.860000   3.680000               3.000000    19.510000\n",
              "max         50.810000  10.000000               5.000000    71.030000"
            ]
          },
          "metadata": {
            "tags": []
          },
          "execution_count": 25
        }
      ]
    },
    {
      "cell_type": "code",
      "metadata": {
        "colab": {
          "base_uri": "https://localhost:8080/",
          "height": 297
        },
        "id": "K70notBJpLu4",
        "outputId": "c56fc752-6aa3-4b62-c6d7-d0549804f607"
      },
      "source": [
        "# Vendo a descrição de quem não pediu sobremesa\n",
        "\n",
        "dados[dados.Sobremesa == 'Não'].describe()"
      ],
      "execution_count": 26,
      "outputs": [
        {
          "output_type": "execute_result",
          "data": {
            "text/html": [
              "<div>\n",
              "<style scoped>\n",
              "    .dataframe tbody tr th:only-of-type {\n",
              "        vertical-align: middle;\n",
              "    }\n",
              "\n",
              "    .dataframe tbody tr th {\n",
              "        vertical-align: top;\n",
              "    }\n",
              "\n",
              "    .dataframe thead th {\n",
              "        text-align: right;\n",
              "    }\n",
              "</style>\n",
              "<table border=\"1\" class=\"dataframe\">\n",
              "  <thead>\n",
              "    <tr style=\"text-align: right;\">\n",
              "      <th></th>\n",
              "      <th>Total_da_conta</th>\n",
              "      <th>Gorjeta</th>\n",
              "      <th>Quantidade_de_pessoas</th>\n",
              "      <th>Porcentagem</th>\n",
              "    </tr>\n",
              "  </thead>\n",
              "  <tbody>\n",
              "    <tr>\n",
              "      <th>count</th>\n",
              "      <td>151.000000</td>\n",
              "      <td>151.000000</td>\n",
              "      <td>151.000000</td>\n",
              "      <td>151.000000</td>\n",
              "    </tr>\n",
              "    <tr>\n",
              "      <th>mean</th>\n",
              "      <td>19.188278</td>\n",
              "      <td>2.991854</td>\n",
              "      <td>2.668874</td>\n",
              "      <td>15.932318</td>\n",
              "    </tr>\n",
              "    <tr>\n",
              "      <th>std</th>\n",
              "      <td>8.255582</td>\n",
              "      <td>1.377190</td>\n",
              "      <td>1.017984</td>\n",
              "      <td>3.990701</td>\n",
              "    </tr>\n",
              "    <tr>\n",
              "      <th>min</th>\n",
              "      <td>7.250000</td>\n",
              "      <td>1.000000</td>\n",
              "      <td>1.000000</td>\n",
              "      <td>5.680000</td>\n",
              "    </tr>\n",
              "    <tr>\n",
              "      <th>25%</th>\n",
              "      <td>13.325000</td>\n",
              "      <td>2.000000</td>\n",
              "      <td>2.000000</td>\n",
              "      <td>13.690000</td>\n",
              "    </tr>\n",
              "    <tr>\n",
              "      <th>50%</th>\n",
              "      <td>17.590000</td>\n",
              "      <td>2.740000</td>\n",
              "      <td>2.000000</td>\n",
              "      <td>15.560000</td>\n",
              "    </tr>\n",
              "    <tr>\n",
              "      <th>75%</th>\n",
              "      <td>22.755000</td>\n",
              "      <td>3.505000</td>\n",
              "      <td>3.000000</td>\n",
              "      <td>18.500000</td>\n",
              "    </tr>\n",
              "    <tr>\n",
              "      <th>max</th>\n",
              "      <td>48.330000</td>\n",
              "      <td>9.000000</td>\n",
              "      <td>6.000000</td>\n",
              "      <td>29.200000</td>\n",
              "    </tr>\n",
              "  </tbody>\n",
              "</table>\n",
              "</div>"
            ],
            "text/plain": [
              "       Total_da_conta     Gorjeta  Quantidade_de_pessoas  Porcentagem\n",
              "count      151.000000  151.000000             151.000000   151.000000\n",
              "mean        19.188278    2.991854               2.668874    15.932318\n",
              "std          8.255582    1.377190               1.017984     3.990701\n",
              "min          7.250000    1.000000               1.000000     5.680000\n",
              "25%         13.325000    2.000000               2.000000    13.690000\n",
              "50%         17.590000    2.740000               2.000000    15.560000\n",
              "75%         22.755000    3.505000               3.000000    18.500000\n",
              "max         48.330000    9.000000               6.000000    29.200000"
            ]
          },
          "metadata": {
            "tags": []
          },
          "execution_count": 26
        }
      ]
    },
    {
      "cell_type": "code",
      "metadata": {
        "colab": {
          "base_uri": "https://localhost:8080/",
          "height": 383
        },
        "id": "YdB_GUPvpbwy",
        "outputId": "09ae574e-816c-4356-abe0-d6a80c0b7f8b"
      },
      "source": [
        "# Com o gráfico abaixo podemos fazer uma breve comparação entre quem pediu e não pediu sobremesa.\n",
        "# Podemos ver que existe uma diferença mínima, mas não fica muito claro nesse gráfico.\n",
        "\n",
        "MI = sns.catplot(x='Sobremesa', y='Gorjeta', data= dados)"
      ],
      "execution_count": 27,
      "outputs": [
        {
          "output_type": "display_data",
          "data": {
            "image/png": "[encoded data removed]",
            "text/plain": [
              "<Figure size 360x360 with 1 Axes>"
            ]
          },
          "metadata": {
            "tags": [],
            "needs_background": "light"
          }
        }
      ]
    },
    {
      "cell_type": "code",
      "metadata": {
        "colab": {
          "base_uri": "https://localhost:8080/",
          "height": 384
        },
        "id": "9u4JlXvbq6Y1",
        "outputId": "d83d1832-0c76-43d7-f4b3-a1a0473fe5c1"
      },
      "source": [
        "MI = sns.relplot(x='Total_da_conta', y='Gorjeta', hue='Sobremesa', data=dados)\n",
        "\n",
        "# O parâmetro 'hue' agrupa os os elementos por cores baseado em uma variável.\n",
        "# No exemplo abaixo, nós comparamos o valor da gorjeta com o valor total da conta, agrupando por quem pediu e não pediu sobremesa."
      ],
      "execution_count": 28,
      "outputs": [
        {
          "output_type": "display_data",
          "data": {
            "image/png": "[encoded data removed]",
            "text/plain": [
              "<Figure size 423.625x360 with 1 Axes>"
            ]
          },
          "metadata": {
            "tags": [],
            "needs_background": "light"
          }
        }
      ]
    },
    {
      "cell_type": "code",
      "metadata": {
        "colab": {
          "base_uri": "https://localhost:8080/",
          "height": 384
        },
        "id": "t-bIm6OOsSua",
        "outputId": "cbb44549-0303-4630-929d-efb2cd08cded"
      },
      "source": [
        "# Vamos dividir o gráfico anterior em duas colunas separadas.\n",
        "# Para fazer isso, basta passar mais um parâmetro, o 'col'. Esse parâmetro divide o conjunto com base na variável fornecida.\n",
        "\n",
        "MI = sns.relplot(x='Total_da_conta', y='Gorjeta', hue='Sobremesa', col= 'Sobremesa', data=dados)"
      ],
      "execution_count": 29,
      "outputs": [
        {
          "output_type": "display_data",
          "data": {
            "image/png": "[encoded data removed]",
            "text/plain": [
              "<Figure size 783.625x360 with 2 Axes>"
            ]
          },
          "metadata": {
            "tags": [],
            "needs_background": "light"
          }
        }
      ]
    },
    {
      "cell_type": "code",
      "metadata": {
        "colab": {
          "base_uri": "https://localhost:8080/",
          "height": 384
        },
        "id": "mEIUmwvStt9C",
        "outputId": "ad6d0bba-d8d0-449c-bbc9-751f23222467"
      },
      "source": [
        "# Abaixo temos um gráfico com a relação 'Total da compra' e 'Gorjeta'\n",
        "\n",
        "MI = sns.lmplot(x='Total_da_conta', y='Gorjeta', hue='Sobremesa', col= 'Sobremesa', data=dados) "
      ],
      "execution_count": 30,
      "outputs": [
        {
          "output_type": "display_data",
          "data": {
            "image/png": "[encoded data removed]",
            "text/plain": [
              "<Figure size 720x360 with 2 Axes>"
            ]
          },
          "metadata": {
            "tags": [],
            "needs_background": "light"
          }
        }
      ]
    },
    {
      "cell_type": "code",
      "metadata": {
        "colab": {
          "base_uri": "https://localhost:8080/",
          "height": 384
        },
        "id": "Dpu_OVBwu4t8",
        "outputId": "206028e1-ab94-49b9-c7f7-e5a13b15d92a"
      },
      "source": [
        "# Vamos criar um gráfico para visualizar a relação entre a 'porcentage' e o 'valor total' de quem pediu e não pediu sobremesa\n",
        "\n",
        "MI = sns.lmplot(x='Total_da_conta', y='Porcentagem', hue='Sobremesa', col= 'Sobremesa', data=dados) "
      ],
      "execution_count": 31,
      "outputs": [
        {
          "output_type": "display_data",
          "data": {
            "image/png": "[encoded data removed]",
            "text/plain": [
              "<Figure size 720x360 with 2 Axes>"
            ]
          },
          "metadata": {
            "tags": [],
            "needs_background": "light"
          }
        }
      ]
    },
    {
      "cell_type": "code",
      "metadata": {
        "colab": {
          "base_uri": "https://localhost:8080/",
          "height": 384
        },
        "id": "QGvLGOEIvdXV",
        "outputId": "8bc21287-a09d-4af5-9f17-16676f8b09c2"
      },
      "source": [
        "# Com um gráfico de linha temos 'Total da conta' x 'Gorjeta'\n",
        " \n",
        "MI = sns.relplot(x='Total_da_conta', y='Gorjeta', hue='Sobremesa', kind='line', col= 'Sobremesa', data=dados) "
      ],
      "execution_count": 32,
      "outputs": [
        {
          "output_type": "display_data",
          "data": {
            "image/png": "[encoded data removed]",
            "text/plain": [
              "<Figure size 783.625x360 with 2 Axes>"
            ]
          },
          "metadata": {
            "tags": [],
            "needs_background": "light"
          }
        }
      ]
    },
    {
      "cell_type": "code",
      "metadata": {
        "colab": {
          "base_uri": "https://localhost:8080/",
          "height": 384
        },
        "id": "vMChV1u-wbmG",
        "outputId": "07c35c26-aaf3-49b8-e591-18b37b45af20"
      },
      "source": [
        "# Com um gráfico de linha temos 'Total da conta' x 'Porcentagem(%)'\n",
        "\n",
        "MI = sns.relplot(x='Total_da_conta', y='Porcentagem', hue='Sobremesa', kind='line', col= 'Sobremesa', data=dados) "
      ],
      "execution_count": 33,
      "outputs": [
        {
          "output_type": "display_data",
          "data": {
            "image/png": "[encoded data removed]",
            "text/plain": [
              "<Figure size 783.625x360 with 2 Axes>"
            ]
          },
          "metadata": {
            "tags": [],
            "needs_background": "light"
          }
        }
      ]
    },
    {
      "cell_type": "markdown",
      "metadata": {
        "id": "k0VrlZtcvLhJ"
      },
      "source": [
        "**Visualmente, podemos perceber que existe uma diferença no valor da gorjeta das pessoas que pediram e das que não pediram sobremesa**"
      ]
    },
    {
      "cell_type": "markdown",
      "metadata": {
        "id": "2ujifGTbwxYn"
      },
      "source": [
        "## Teste de hipótese\n",
        "\n",
        "#### H-null => A distribuição da taxa da gorjeta é igual nos dois grupos\n",
        "\n",
        "#### H-alt => A distribuição da taxa da gorjeta não é igual nos dois grupos"
      ]
    },
    {
      "cell_type": "code",
      "metadata": {
        "id": "QdEjNFcswIzP"
      },
      "source": [
        "from scipy.stats import ranksums"
      ],
      "execution_count": 34,
      "outputs": []
    },
    {
      "cell_type": "code",
      "metadata": {
        "colab": {
          "base_uri": "https://localhost:8080/",
          "height": 204
        },
        "id": "6Sq233vLoafR",
        "outputId": "f09f43f0-59c2-4c94-aed5-fda9a2998afb"
      },
      "source": [
        "dados.head()"
      ],
      "execution_count": 35,
      "outputs": [
        {
          "output_type": "execute_result",
          "data": {
            "text/html": [
              "<div>\n",
              "<style scoped>\n",
              "    .dataframe tbody tr th:only-of-type {\n",
              "        vertical-align: middle;\n",
              "    }\n",
              "\n",
              "    .dataframe tbody tr th {\n",
              "        vertical-align: top;\n",
              "    }\n",
              "\n",
              "    .dataframe thead th {\n",
              "        text-align: right;\n",
              "    }\n",
              "</style>\n",
              "<table border=\"1\" class=\"dataframe\">\n",
              "  <thead>\n",
              "    <tr style=\"text-align: right;\">\n",
              "      <th></th>\n",
              "      <th>Total_da_conta</th>\n",
              "      <th>Gorjeta</th>\n",
              "      <th>Sobremesa</th>\n",
              "      <th>Dia_da_Semana</th>\n",
              "      <th>Horario_do_Dia</th>\n",
              "      <th>Quantidade_de_pessoas</th>\n",
              "      <th>Porcentagem</th>\n",
              "    </tr>\n",
              "  </thead>\n",
              "  <tbody>\n",
              "    <tr>\n",
              "      <th>0</th>\n",
              "      <td>16.99</td>\n",
              "      <td>1.01</td>\n",
              "      <td>Não</td>\n",
              "      <td>Domingo</td>\n",
              "      <td>Jantar</td>\n",
              "      <td>2</td>\n",
              "      <td>5.94</td>\n",
              "    </tr>\n",
              "    <tr>\n",
              "      <th>1</th>\n",
              "      <td>10.34</td>\n",
              "      <td>1.66</td>\n",
              "      <td>Não</td>\n",
              "      <td>Domingo</td>\n",
              "      <td>Jantar</td>\n",
              "      <td>3</td>\n",
              "      <td>16.05</td>\n",
              "    </tr>\n",
              "    <tr>\n",
              "      <th>2</th>\n",
              "      <td>21.01</td>\n",
              "      <td>3.50</td>\n",
              "      <td>Não</td>\n",
              "      <td>Domingo</td>\n",
              "      <td>Jantar</td>\n",
              "      <td>3</td>\n",
              "      <td>16.66</td>\n",
              "    </tr>\n",
              "    <tr>\n",
              "      <th>3</th>\n",
              "      <td>23.68</td>\n",
              "      <td>3.31</td>\n",
              "      <td>Não</td>\n",
              "      <td>Domingo</td>\n",
              "      <td>Jantar</td>\n",
              "      <td>2</td>\n",
              "      <td>13.98</td>\n",
              "    </tr>\n",
              "    <tr>\n",
              "      <th>4</th>\n",
              "      <td>24.59</td>\n",
              "      <td>3.61</td>\n",
              "      <td>Não</td>\n",
              "      <td>Domingo</td>\n",
              "      <td>Jantar</td>\n",
              "      <td>4</td>\n",
              "      <td>14.68</td>\n",
              "    </tr>\n",
              "  </tbody>\n",
              "</table>\n",
              "</div>"
            ],
            "text/plain": [
              "   Total_da_conta  Gorjeta  ... Quantidade_de_pessoas Porcentagem\n",
              "0           16.99     1.01  ...                     2        5.94\n",
              "1           10.34     1.66  ...                     3       16.05\n",
              "2           21.01     3.50  ...                     3       16.66\n",
              "3           23.68     3.31  ...                     2       13.98\n",
              "4           24.59     3.61  ...                     4       14.68\n",
              "\n",
              "[5 rows x 7 columns]"
            ]
          },
          "metadata": {
            "tags": []
          },
          "execution_count": 35
        }
      ]
    },
    {
      "cell_type": "code",
      "metadata": {
        "colab": {
          "base_uri": "https://localhost:8080/"
        },
        "id": "TbKcfMWLjCiO",
        "outputId": "2ccc0c72-9c79-446c-ce4c-53a1edd299ca"
      },
      "source": [
        "Sob_sim = dados.query(\"Sobremesa == 'Sim'\").Porcentagem\n",
        "Sob_sim"
      ],
      "execution_count": 36,
      "outputs": [
        {
          "output_type": "execute_result",
          "data": {
            "text/plain": [
              "56      7.89\n",
              "58     15.66\n",
              "60     15.82\n",
              "61     14.48\n",
              "62     17.97\n",
              "       ...  \n",
              "234    19.32\n",
              "236     7.94\n",
              "237     3.56\n",
              "240     7.36\n",
              "241     8.82\n",
              "Name: Porcentagem, Length: 93, dtype: float64"
            ]
          },
          "metadata": {
            "tags": []
          },
          "execution_count": 36
        }
      ]
    },
    {
      "cell_type": "code",
      "metadata": {
        "colab": {
          "base_uri": "https://localhost:8080/"
        },
        "id": "b172SjW_jI24",
        "outputId": "0132c5e8-58c1-406f-b439-11942bdb26bf"
      },
      "source": [
        "Sob_nao = dados.query(\"Sobremesa == 'Não'\").Porcentagem\n",
        "Sob_nao"
      ],
      "execution_count": 37,
      "outputs": [
        {
          "output_type": "execute_result",
          "data": {
            "text/plain": [
              "0       5.94\n",
              "1      16.05\n",
              "2      16.66\n",
              "3      13.98\n",
              "4      14.68\n",
              "       ...  \n",
              "235    12.41\n",
              "238    13.03\n",
              "239    20.39\n",
              "242     9.82\n",
              "243    15.97\n",
              "Name: Porcentagem, Length: 151, dtype: float64"
            ]
          },
          "metadata": {
            "tags": []
          },
          "execution_count": 37
        }
      ]
    },
    {
      "cell_type": "code",
      "metadata": {
        "colab": {
          "base_uri": "https://localhost:8080/"
        },
        "id": "753irx4PtekF",
        "outputId": "fadeee8d-885e-460b-e082-dd0a8392a46e"
      },
      "source": [
        "# Matematicamente, o valor de 'pvalue' mostra que a diferença é quase inexistente. Nesse caso, vamos continuar com a Hipótese nula.\n",
        "\n",
        "# Para aceitarmos o valor da Hipótese alternativa, o ideal é que o valor de  'pvalue' seja menor ou igual a 0.05. \n",
        "# Como valor foi muito alto, vamos continuar com a hipótese nula.\n",
        "\n",
        "# Podemos concluir que a distribuição nos dois grupos é a mesma\n",
        "\n",
        "ranksums(Sob_nao, Sob_sim)"
      ],
      "execution_count": 38,
      "outputs": [
        {
          "output_type": "execute_result",
          "data": {
            "text/plain": [
              "RanksumsResult(statistic=0.5845504113520769, pvalue=0.558850059321255)"
            ]
          },
          "metadata": {
            "tags": []
          },
          "execution_count": 38
        }
      ]
    },
    {
      "cell_type": "markdown",
      "metadata": {
        "id": "zNP_92z9_gXz"
      },
      "source": [
        "# **Aqui vamos explorar o tópico 3:**\n",
        "\n",
        "#### 3 - Verificar se o dia da semana interfere no valor da gorjeta"
      ]
    },
    {
      "cell_type": "code",
      "metadata": {
        "colab": {
          "base_uri": "https://localhost:8080/",
          "height": 204
        },
        "id": "LHSxyJP3_v1f",
        "outputId": "67016e43-0a83-4b22-94e8-b5b3402e9473"
      },
      "source": [
        "dados.head()"
      ],
      "execution_count": 39,
      "outputs": [
        {
          "output_type": "execute_result",
          "data": {
            "text/html": [
              "<div>\n",
              "<style scoped>\n",
              "    .dataframe tbody tr th:only-of-type {\n",
              "        vertical-align: middle;\n",
              "    }\n",
              "\n",
              "    .dataframe tbody tr th {\n",
              "        vertical-align: top;\n",
              "    }\n",
              "\n",
              "    .dataframe thead th {\n",
              "        text-align: right;\n",
              "    }\n",
              "</style>\n",
              "<table border=\"1\" class=\"dataframe\">\n",
              "  <thead>\n",
              "    <tr style=\"text-align: right;\">\n",
              "      <th></th>\n",
              "      <th>Total_da_conta</th>\n",
              "      <th>Gorjeta</th>\n",
              "      <th>Sobremesa</th>\n",
              "      <th>Dia_da_Semana</th>\n",
              "      <th>Horario_do_Dia</th>\n",
              "      <th>Quantidade_de_pessoas</th>\n",
              "      <th>Porcentagem</th>\n",
              "    </tr>\n",
              "  </thead>\n",
              "  <tbody>\n",
              "    <tr>\n",
              "      <th>0</th>\n",
              "      <td>16.99</td>\n",
              "      <td>1.01</td>\n",
              "      <td>Não</td>\n",
              "      <td>Domingo</td>\n",
              "      <td>Jantar</td>\n",
              "      <td>2</td>\n",
              "      <td>5.94</td>\n",
              "    </tr>\n",
              "    <tr>\n",
              "      <th>1</th>\n",
              "      <td>10.34</td>\n",
              "      <td>1.66</td>\n",
              "      <td>Não</td>\n",
              "      <td>Domingo</td>\n",
              "      <td>Jantar</td>\n",
              "      <td>3</td>\n",
              "      <td>16.05</td>\n",
              "    </tr>\n",
              "    <tr>\n",
              "      <th>2</th>\n",
              "      <td>21.01</td>\n",
              "      <td>3.50</td>\n",
              "      <td>Não</td>\n",
              "      <td>Domingo</td>\n",
              "      <td>Jantar</td>\n",
              "      <td>3</td>\n",
              "      <td>16.66</td>\n",
              "    </tr>\n",
              "    <tr>\n",
              "      <th>3</th>\n",
              "      <td>23.68</td>\n",
              "      <td>3.31</td>\n",
              "      <td>Não</td>\n",
              "      <td>Domingo</td>\n",
              "      <td>Jantar</td>\n",
              "      <td>2</td>\n",
              "      <td>13.98</td>\n",
              "    </tr>\n",
              "    <tr>\n",
              "      <th>4</th>\n",
              "      <td>24.59</td>\n",
              "      <td>3.61</td>\n",
              "      <td>Não</td>\n",
              "      <td>Domingo</td>\n",
              "      <td>Jantar</td>\n",
              "      <td>4</td>\n",
              "      <td>14.68</td>\n",
              "    </tr>\n",
              "  </tbody>\n",
              "</table>\n",
              "</div>"
            ],
            "text/plain": [
              "   Total_da_conta  Gorjeta  ... Quantidade_de_pessoas Porcentagem\n",
              "0           16.99     1.01  ...                     2        5.94\n",
              "1           10.34     1.66  ...                     3       16.05\n",
              "2           21.01     3.50  ...                     3       16.66\n",
              "3           23.68     3.31  ...                     2       13.98\n",
              "4           24.59     3.61  ...                     4       14.68\n",
              "\n",
              "[5 rows x 7 columns]"
            ]
          },
          "metadata": {
            "tags": []
          },
          "execution_count": 39
        }
      ]
    },
    {
      "cell_type": "code",
      "metadata": {
        "id": "wGJM_Zc3AVjn"
      },
      "source": [
        ""
      ],
      "execution_count": null,
      "outputs": []
    }
  ]
}